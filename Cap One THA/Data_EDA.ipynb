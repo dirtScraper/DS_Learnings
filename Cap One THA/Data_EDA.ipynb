{
 "cells": [
  {
   "cell_type": "markdown",
   "id": "4f6f5ff5",
   "metadata": {},
   "source": [
    "# Loading libraries"
   ]
  },
  {
   "cell_type": "code",
   "execution_count": 51,
   "id": "66329be3",
   "metadata": {},
   "outputs": [],
   "source": [
    "import numpy as np\n",
    "import pandas as pd\n",
    "\n",
    "import os\n",
    "import datetime as dt\n",
    "\n",
    "import matplotlib.pyplot as plt\n",
    "import seaborn as sns"
   ]
  },
  {
   "cell_type": "code",
   "execution_count": 2,
   "id": "15fe1832",
   "metadata": {},
   "outputs": [],
   "source": [
    "# Suppress warnings \n",
    "import warnings\n",
    "warnings.filterwarnings('ignore')\n",
    "\n",
    "# Display setting\n",
    "pd.set_option('max_colwidth', 800)\n",
    "pd.options.display.max_columns = None\n",
    "pd.options.display.max_rows = None"
   ]
  },
  {
   "cell_type": "markdown",
   "id": "eccb296d",
   "metadata": {},
   "source": [
    "# Loading dataset"
   ]
  },
  {
   "cell_type": "code",
   "execution_count": 3,
   "id": "be776c9e",
   "metadata": {},
   "outputs": [
    {
     "name": "stdout",
     "output_type": "stream",
     "text": [
      "{\"accountNumber\": \"737265056\", \"customerId\": \"737265056\", \"creditLimit\": 5000.0, \"availableMoney\": 5000.0, \"transactionDateTime\": \"2016-08-13T14:27:32\", \"transactionAmount\": 98.55, \"merchantName\": \"Uber\", \"acqCountry\": \"US\", \"merchantCountryCode\": \"US\", \"posEntryMode\": \"02\", \"posConditionCode\": \"01\", \"merchantCategoryCode\": \"rideshare\", \"currentExpDate\": \"06/2023\", \"accountOpenDate\": \"2015-03-14\", \"dateOfLastAddressChange\": \"2015-03-14\", \"cardCVV\": \"414\", \"enteredCVV\": \"414\", \"cardLast4Digits\": \"1803\", \"transactionType\": \"PURCHASE\", \"echoBuffer\": \"\", \"currentBalance\": 0.0, \"merchantCity\": \"\", \"merchantState\": \"\", \"merchantZip\": \"\", \"cardPresent\": false, \"posOnPremises\": \"\", \"recurringAuthInd\": \"\", \"expirationDateKeyInMatch\": false, \"isFraud\": false}\r\n",
      "{\"accountNumber\": \"737265056\", \"customerId\": \"737265056\", \"creditLimit\": 5000.0, \"availableMoney\": 5000.0, \"transactionDateTime\": \"2016-10-11T05:05:54\", \"transactionAmount\": 74.51, \"merchantName\": \"AMC #191138\", \"acqCountry\": \"US\", \"merchantCountryCode\": \"US\", \"posEntryMode\": \"09\", \"posConditionCode\": \"01\", \"merchantCategoryCode\": \"entertainment\", \"cardPresent\": true, \"currentExpDate\": \"02/2024\", \"accountOpenDate\": \"2015-03-14\", \"dateOfLastAddressChange\": \"2015-03-14\", \"cardCVV\": \"486\", \"enteredCVV\": \"486\", \"cardLast4Digits\": \"767\", \"transactionType\": \"PURCHASE\", \"echoBuffer\": \"\", \"currentBalance\": 0.0, \"merchantCity\": \"\", \"merchantState\": \"\", \"merchantZip\": \"\", \"posOnPremises\": \"\", \"recurringAuthInd\": \"\", \"expirationDateKeyInMatch\": false, \"isFraud\": false}\r\n",
      "{\"accountNumber\": \"737265056\", \"customerId\": \"737265056\", \"creditLimit\": 5000.0, \"availableMoney\": 5000.0, \"transactionDateTime\": \"2016-11-08T09:18:39\", \"transactionAmount\": 7.47, \"merchantName\": \"Play Store\", \"acqCountry\": \"US\", \"merchantCountryCode\": \"US\", \"posEntryMode\": \"09\", \"posConditionCode\": \"01\", \"merchantCategoryCode\": \"mobileapps\", \"currentExpDate\": \"08/2025\", \"accountOpenDate\": \"2015-03-14\", \"dateOfLastAddressChange\": \"2015-03-14\", \"cardCVV\": \"486\", \"enteredCVV\": \"486\", \"cardLast4Digits\": \"767\", \"transactionType\": \"PURCHASE\", \"echoBuffer\": \"\", \"currentBalance\": 0.0, \"merchantCity\": \"\", \"merchantState\": \"\", \"merchantZip\": \"\", \"cardPresent\": false, \"posOnPremises\": \"\", \"recurringAuthInd\": \"\", \"expirationDateKeyInMatch\": false, \"isFraud\": false}\r\n"
     ]
    }
   ],
   "source": [
    "# taking a look at the 1st 3 lines of the 600 MB file -> to understand the structure of the file content\n",
    "# using linux head command instead of directly loading into the pandas\n",
    "\n",
    "!head -3 ./transactions.txt"
   ]
  },
  {
   "cell_type": "code",
   "execution_count": 4,
   "id": "e57f4591",
   "metadata": {},
   "outputs": [
    {
     "data": {
      "text/html": [
       "<div>\n",
       "<style scoped>\n",
       "    .dataframe tbody tr th:only-of-type {\n",
       "        vertical-align: middle;\n",
       "    }\n",
       "\n",
       "    .dataframe tbody tr th {\n",
       "        vertical-align: top;\n",
       "    }\n",
       "\n",
       "    .dataframe thead th {\n",
       "        text-align: right;\n",
       "    }\n",
       "</style>\n",
       "<table border=\"1\" class=\"dataframe\">\n",
       "  <thead>\n",
       "    <tr style=\"text-align: right;\">\n",
       "      <th></th>\n",
       "      <th>accountNumber</th>\n",
       "      <th>customerId</th>\n",
       "      <th>creditLimit</th>\n",
       "      <th>availableMoney</th>\n",
       "      <th>transactionDateTime</th>\n",
       "      <th>transactionAmount</th>\n",
       "      <th>merchantName</th>\n",
       "      <th>acqCountry</th>\n",
       "      <th>merchantCountryCode</th>\n",
       "      <th>posEntryMode</th>\n",
       "      <th>posConditionCode</th>\n",
       "      <th>merchantCategoryCode</th>\n",
       "      <th>currentExpDate</th>\n",
       "      <th>accountOpenDate</th>\n",
       "      <th>dateOfLastAddressChange</th>\n",
       "      <th>cardCVV</th>\n",
       "      <th>enteredCVV</th>\n",
       "      <th>cardLast4Digits</th>\n",
       "      <th>transactionType</th>\n",
       "      <th>echoBuffer</th>\n",
       "      <th>currentBalance</th>\n",
       "      <th>merchantCity</th>\n",
       "      <th>merchantState</th>\n",
       "      <th>merchantZip</th>\n",
       "      <th>cardPresent</th>\n",
       "      <th>posOnPremises</th>\n",
       "      <th>recurringAuthInd</th>\n",
       "      <th>expirationDateKeyInMatch</th>\n",
       "      <th>isFraud</th>\n",
       "    </tr>\n",
       "  </thead>\n",
       "  <tbody>\n",
       "    <tr>\n",
       "      <th>0</th>\n",
       "      <td>737265056</td>\n",
       "      <td>737265056</td>\n",
       "      <td>5000</td>\n",
       "      <td>5000.0</td>\n",
       "      <td>2016-08-13T14:27:32</td>\n",
       "      <td>98.55</td>\n",
       "      <td>Uber</td>\n",
       "      <td>US</td>\n",
       "      <td>US</td>\n",
       "      <td>02</td>\n",
       "      <td>01</td>\n",
       "      <td>rideshare</td>\n",
       "      <td>06/2023</td>\n",
       "      <td>2015-03-14</td>\n",
       "      <td>2015-03-14</td>\n",
       "      <td>414</td>\n",
       "      <td>414</td>\n",
       "      <td>1803</td>\n",
       "      <td>PURCHASE</td>\n",
       "      <td></td>\n",
       "      <td>0.0</td>\n",
       "      <td></td>\n",
       "      <td></td>\n",
       "      <td></td>\n",
       "      <td>False</td>\n",
       "      <td></td>\n",
       "      <td></td>\n",
       "      <td>False</td>\n",
       "      <td>False</td>\n",
       "    </tr>\n",
       "    <tr>\n",
       "      <th>1</th>\n",
       "      <td>737265056</td>\n",
       "      <td>737265056</td>\n",
       "      <td>5000</td>\n",
       "      <td>5000.0</td>\n",
       "      <td>2016-10-11T05:05:54</td>\n",
       "      <td>74.51</td>\n",
       "      <td>AMC #191138</td>\n",
       "      <td>US</td>\n",
       "      <td>US</td>\n",
       "      <td>09</td>\n",
       "      <td>01</td>\n",
       "      <td>entertainment</td>\n",
       "      <td>02/2024</td>\n",
       "      <td>2015-03-14</td>\n",
       "      <td>2015-03-14</td>\n",
       "      <td>486</td>\n",
       "      <td>486</td>\n",
       "      <td>767</td>\n",
       "      <td>PURCHASE</td>\n",
       "      <td></td>\n",
       "      <td>0.0</td>\n",
       "      <td></td>\n",
       "      <td></td>\n",
       "      <td></td>\n",
       "      <td>True</td>\n",
       "      <td></td>\n",
       "      <td></td>\n",
       "      <td>False</td>\n",
       "      <td>False</td>\n",
       "    </tr>\n",
       "    <tr>\n",
       "      <th>2</th>\n",
       "      <td>737265056</td>\n",
       "      <td>737265056</td>\n",
       "      <td>5000</td>\n",
       "      <td>5000.0</td>\n",
       "      <td>2016-11-08T09:18:39</td>\n",
       "      <td>7.47</td>\n",
       "      <td>Play Store</td>\n",
       "      <td>US</td>\n",
       "      <td>US</td>\n",
       "      <td>09</td>\n",
       "      <td>01</td>\n",
       "      <td>mobileapps</td>\n",
       "      <td>08/2025</td>\n",
       "      <td>2015-03-14</td>\n",
       "      <td>2015-03-14</td>\n",
       "      <td>486</td>\n",
       "      <td>486</td>\n",
       "      <td>767</td>\n",
       "      <td>PURCHASE</td>\n",
       "      <td></td>\n",
       "      <td>0.0</td>\n",
       "      <td></td>\n",
       "      <td></td>\n",
       "      <td></td>\n",
       "      <td>False</td>\n",
       "      <td></td>\n",
       "      <td></td>\n",
       "      <td>False</td>\n",
       "      <td>False</td>\n",
       "    </tr>\n",
       "    <tr>\n",
       "      <th>3</th>\n",
       "      <td>737265056</td>\n",
       "      <td>737265056</td>\n",
       "      <td>5000</td>\n",
       "      <td>5000.0</td>\n",
       "      <td>2016-12-10T02:14:50</td>\n",
       "      <td>7.47</td>\n",
       "      <td>Play Store</td>\n",
       "      <td>US</td>\n",
       "      <td>US</td>\n",
       "      <td>09</td>\n",
       "      <td>01</td>\n",
       "      <td>mobileapps</td>\n",
       "      <td>08/2025</td>\n",
       "      <td>2015-03-14</td>\n",
       "      <td>2015-03-14</td>\n",
       "      <td>486</td>\n",
       "      <td>486</td>\n",
       "      <td>767</td>\n",
       "      <td>PURCHASE</td>\n",
       "      <td></td>\n",
       "      <td>0.0</td>\n",
       "      <td></td>\n",
       "      <td></td>\n",
       "      <td></td>\n",
       "      <td>False</td>\n",
       "      <td></td>\n",
       "      <td></td>\n",
       "      <td>False</td>\n",
       "      <td>False</td>\n",
       "    </tr>\n",
       "    <tr>\n",
       "      <th>4</th>\n",
       "      <td>830329091</td>\n",
       "      <td>830329091</td>\n",
       "      <td>5000</td>\n",
       "      <td>5000.0</td>\n",
       "      <td>2016-03-24T21:04:46</td>\n",
       "      <td>71.18</td>\n",
       "      <td>Tim Hortons #947751</td>\n",
       "      <td>US</td>\n",
       "      <td>US</td>\n",
       "      <td>02</td>\n",
       "      <td>01</td>\n",
       "      <td>fastfood</td>\n",
       "      <td>10/2029</td>\n",
       "      <td>2015-08-06</td>\n",
       "      <td>2015-08-06</td>\n",
       "      <td>885</td>\n",
       "      <td>885</td>\n",
       "      <td>3143</td>\n",
       "      <td>PURCHASE</td>\n",
       "      <td></td>\n",
       "      <td>0.0</td>\n",
       "      <td></td>\n",
       "      <td></td>\n",
       "      <td></td>\n",
       "      <td>True</td>\n",
       "      <td></td>\n",
       "      <td></td>\n",
       "      <td>False</td>\n",
       "      <td>False</td>\n",
       "    </tr>\n",
       "  </tbody>\n",
       "</table>\n",
       "</div>"
      ],
      "text/plain": [
       "   accountNumber  customerId  creditLimit  availableMoney  \\\n",
       "0      737265056   737265056         5000          5000.0   \n",
       "1      737265056   737265056         5000          5000.0   \n",
       "2      737265056   737265056         5000          5000.0   \n",
       "3      737265056   737265056         5000          5000.0   \n",
       "4      830329091   830329091         5000          5000.0   \n",
       "\n",
       "   transactionDateTime  transactionAmount         merchantName acqCountry  \\\n",
       "0  2016-08-13T14:27:32              98.55                 Uber         US   \n",
       "1  2016-10-11T05:05:54              74.51          AMC #191138         US   \n",
       "2  2016-11-08T09:18:39               7.47           Play Store         US   \n",
       "3  2016-12-10T02:14:50               7.47           Play Store         US   \n",
       "4  2016-03-24T21:04:46              71.18  Tim Hortons #947751         US   \n",
       "\n",
       "  merchantCountryCode posEntryMode posConditionCode merchantCategoryCode  \\\n",
       "0                  US           02               01            rideshare   \n",
       "1                  US           09               01        entertainment   \n",
       "2                  US           09               01           mobileapps   \n",
       "3                  US           09               01           mobileapps   \n",
       "4                  US           02               01             fastfood   \n",
       "\n",
       "  currentExpDate accountOpenDate dateOfLastAddressChange  cardCVV  enteredCVV  \\\n",
       "0        06/2023      2015-03-14              2015-03-14      414         414   \n",
       "1        02/2024      2015-03-14              2015-03-14      486         486   \n",
       "2        08/2025      2015-03-14              2015-03-14      486         486   \n",
       "3        08/2025      2015-03-14              2015-03-14      486         486   \n",
       "4        10/2029      2015-08-06              2015-08-06      885         885   \n",
       "\n",
       "   cardLast4Digits transactionType echoBuffer  currentBalance merchantCity  \\\n",
       "0             1803        PURCHASE                        0.0                \n",
       "1              767        PURCHASE                        0.0                \n",
       "2              767        PURCHASE                        0.0                \n",
       "3              767        PURCHASE                        0.0                \n",
       "4             3143        PURCHASE                        0.0                \n",
       "\n",
       "  merchantState merchantZip  cardPresent posOnPremises recurringAuthInd  \\\n",
       "0                                  False                                  \n",
       "1                                   True                                  \n",
       "2                                  False                                  \n",
       "3                                  False                                  \n",
       "4                                   True                                  \n",
       "\n",
       "   expirationDateKeyInMatch  isFraud  \n",
       "0                     False    False  \n",
       "1                     False    False  \n",
       "2                     False    False  \n",
       "3                     False    False  \n",
       "4                     False    False  "
      ]
     },
     "execution_count": 4,
     "metadata": {},
     "output_type": "execute_result"
    }
   ],
   "source": [
    "data_path = './transactions.txt'\n",
    "\n",
    "# dataframe\n",
    "df = pd.read_json(data_path,lines=True)\n",
    "df.head()"
   ]
  },
  {
   "cell_type": "markdown",
   "id": "d5a65a12",
   "metadata": {},
   "source": [
    "# Data understanding & Data descriptions"
   ]
  },
  {
   "cell_type": "markdown",
   "id": "11301ca3",
   "metadata": {},
   "source": [
    "## Data check for missing values and duplicates"
   ]
  },
  {
   "cell_type": "code",
   "execution_count": 5,
   "id": "6016b6e3",
   "metadata": {},
   "outputs": [
    {
     "data": {
      "text/plain": [
       "(786363, 29)"
      ]
     },
     "execution_count": 5,
     "metadata": {},
     "output_type": "execute_result"
    }
   ],
   "source": [
    "# number of records, number of fields\n",
    "len(df),len(df.columns)"
   ]
  },
  {
   "cell_type": "code",
   "execution_count": 6,
   "id": "254462a3",
   "metadata": {},
   "outputs": [
    {
     "name": "stdout",
     "output_type": "stream",
     "text": [
      "<class 'pandas.core.frame.DataFrame'>\n",
      "RangeIndex: 786363 entries, 0 to 786362\n",
      "Data columns (total 29 columns):\n",
      " #   Column                    Non-Null Count   Dtype  \n",
      "---  ------                    --------------   -----  \n",
      " 0   accountNumber             786363 non-null  int64  \n",
      " 1   customerId                786363 non-null  int64  \n",
      " 2   creditLimit               786363 non-null  int64  \n",
      " 3   availableMoney            786363 non-null  float64\n",
      " 4   transactionDateTime       786363 non-null  object \n",
      " 5   transactionAmount         786363 non-null  float64\n",
      " 6   merchantName              786363 non-null  object \n",
      " 7   acqCountry                786363 non-null  object \n",
      " 8   merchantCountryCode       786363 non-null  object \n",
      " 9   posEntryMode              786363 non-null  object \n",
      " 10  posConditionCode          786363 non-null  object \n",
      " 11  merchantCategoryCode      786363 non-null  object \n",
      " 12  currentExpDate            786363 non-null  object \n",
      " 13  accountOpenDate           786363 non-null  object \n",
      " 14  dateOfLastAddressChange   786363 non-null  object \n",
      " 15  cardCVV                   786363 non-null  int64  \n",
      " 16  enteredCVV                786363 non-null  int64  \n",
      " 17  cardLast4Digits           786363 non-null  int64  \n",
      " 18  transactionType           786363 non-null  object \n",
      " 19  echoBuffer                786363 non-null  object \n",
      " 20  currentBalance            786363 non-null  float64\n",
      " 21  merchantCity              786363 non-null  object \n",
      " 22  merchantState             786363 non-null  object \n",
      " 23  merchantZip               786363 non-null  object \n",
      " 24  cardPresent               786363 non-null  bool   \n",
      " 25  posOnPremises             786363 non-null  object \n",
      " 26  recurringAuthInd          786363 non-null  object \n",
      " 27  expirationDateKeyInMatch  786363 non-null  bool   \n",
      " 28  isFraud                   786363 non-null  bool   \n",
      "dtypes: bool(3), float64(3), int64(6), object(17)\n",
      "memory usage: 158.2+ MB\n"
     ]
    }
   ],
   "source": [
    "# data information (along with data types)\n",
    "\n",
    "df.info()"
   ]
  },
  {
   "cell_type": "code",
   "execution_count": 7,
   "id": "f48a06ed",
   "metadata": {},
   "outputs": [],
   "source": [
    "# converting bool data types to int\n",
    "\n",
    "df[\"cardPresent\"] = df[\"cardPresent\"].astype(int)\n",
    "df[\"expirationDateKeyInMatch\"] = df[\"expirationDateKeyInMatch\"].astype(int)\n",
    "df[\"isFraud\"] = df[\"isFraud\"].astype(int)"
   ]
  },
  {
   "cell_type": "code",
   "execution_count": 8,
   "id": "563e619c",
   "metadata": {},
   "outputs": [],
   "source": [
    "# converting date type colms to pd.datetime object\n",
    "\n",
    "df['transactionDateTime'] = pd.to_datetime(df['transactionDateTime'])\n",
    "df['accountOpenDate'] = pd.to_datetime(df['accountOpenDate'])\n",
    "df['dateOfLastAddressChange'] = pd.to_datetime(df['dateOfLastAddressChange'])\n",
    "df['currentExpDate'] = pd.to_datetime(df['currentExpDate'])"
   ]
  },
  {
   "cell_type": "markdown",
   "id": "aba3a14f",
   "metadata": {},
   "source": [
    "Above information shows all values to be non null BUT manual inspection of records show blank merchantCity\n",
    "\n",
    "Need to investigate further - Unique values corresponding to object type columns"
   ]
  },
  {
   "cell_type": "code",
   "execution_count": 9,
   "id": "14b57722",
   "metadata": {},
   "outputs": [
    {
     "data": {
      "text/plain": [
       "0"
      ]
     },
     "execution_count": 9,
     "metadata": {},
     "output_type": "execute_result"
    }
   ],
   "source": [
    "# checking duplicate entries in the dataset\n",
    "\n",
    "df.duplicated().sum()"
   ]
  },
  {
   "cell_type": "markdown",
   "id": "75419fba",
   "metadata": {},
   "source": [
    "> There are no duplicates in the dataset"
   ]
  },
  {
   "cell_type": "markdown",
   "id": "261e6500",
   "metadata": {},
   "source": [
    "## Checking unique values"
   ]
  },
  {
   "cell_type": "code",
   "execution_count": 10,
   "id": "9a63216c",
   "metadata": {},
   "outputs": [
    {
     "data": {
      "text/plain": [
       "array([''], dtype=object)"
      ]
     },
     "execution_count": 10,
     "metadata": {},
     "output_type": "execute_result"
    }
   ],
   "source": [
    "# checking the unique values in the merchant City column\n",
    "\n",
    "df['merchantCity'].unique()"
   ]
  },
  {
   "cell_type": "code",
   "execution_count": 11,
   "id": "b7870811",
   "metadata": {},
   "outputs": [
    {
     "data": {
      "text/plain": [
       "13"
      ]
     },
     "execution_count": 11,
     "metadata": {},
     "output_type": "execute_result"
    }
   ],
   "source": [
    "# collecting all the columns with are non numerical types\n",
    "\n",
    "object_cols = df.select_dtypes(include = \"object\").columns\n",
    "\n",
    "len(object_cols)"
   ]
  },
  {
   "cell_type": "code",
   "execution_count": 12,
   "id": "c689b27c",
   "metadata": {},
   "outputs": [
    {
     "name": "stdout",
     "output_type": "stream",
     "text": [
      "merchantName  --  2490\n",
      "acqCountry  --  5\n",
      "merchantCountryCode  --  5\n",
      "posEntryMode  --  6\n",
      "posConditionCode  --  4\n",
      "merchantCategoryCode  --  19\n",
      "transactionType  --  4\n",
      "echoBuffer  --  1\n",
      "merchantCity  --  1\n",
      "merchantState  --  1\n",
      "merchantZip  --  1\n",
      "posOnPremises  --  1\n",
      "recurringAuthInd  --  1\n"
     ]
    }
   ],
   "source": [
    "# For object columns - checking the unique values correponding to each of the columns \n",
    "\n",
    "for col in object_cols:\n",
    "    print(col,df[col].nunique(),sep = \"  --  \")"
   ]
  },
  {
   "cell_type": "code",
   "execution_count": 13,
   "id": "9baccd6f",
   "metadata": {},
   "outputs": [
    {
     "data": {
      "text/plain": [
       "11"
      ]
     },
     "execution_count": 13,
     "metadata": {},
     "output_type": "execute_result"
    }
   ],
   "source": [
    "# Checking unique values of col which have less than 10 unique values and their corresponding data counts\n",
    "\n",
    "low_uniuqe_cols = []\n",
    "\n",
    "for col in object_cols:\n",
    "    if df[col].nunique() < 10:\n",
    "        low_uniuqe_cols.append(col)\n",
    "        \n",
    "len(low_uniuqe_cols)"
   ]
  },
  {
   "cell_type": "code",
   "execution_count": 14,
   "id": "3dea74a1",
   "metadata": {},
   "outputs": [
    {
     "name": "stdout",
     "output_type": "stream",
     "text": [
      "acqCountry\n",
      "['US' '' 'CAN' 'MEX' 'PR']\n",
      "\n",
      "merchantCountryCode\n",
      "['US' 'CAN' '' 'PR' 'MEX']\n",
      "\n",
      "posEntryMode\n",
      "['02' '09' '05' '80' '90' '']\n",
      "\n",
      "posConditionCode\n",
      "['01' '08' '99' '']\n",
      "\n",
      "transactionType\n",
      "['PURCHASE' 'ADDRESS_VERIFICATION' 'REVERSAL' '']\n",
      "\n",
      "echoBuffer\n",
      "['']\n",
      "\n",
      "merchantCity\n",
      "['']\n",
      "\n",
      "merchantState\n",
      "['']\n",
      "\n",
      "merchantZip\n",
      "['']\n",
      "\n",
      "posOnPremises\n",
      "['']\n",
      "\n",
      "recurringAuthInd\n",
      "['']\n",
      "\n"
     ]
    }
   ],
   "source": [
    "for col in low_uniuqe_cols:\n",
    "    print(col)\n",
    "    print(df[col].unique())\n",
    "    print()"
   ]
  },
  {
   "cell_type": "markdown",
   "id": "3ad9f6d6",
   "metadata": {},
   "source": [
    "> All the columns have missing values (disguised as \" \") -> Similarly need to check the numerical data cols for such disguise"
   ]
  },
  {
   "cell_type": "code",
   "execution_count": 15,
   "id": "3bba333d",
   "metadata": {},
   "outputs": [
    {
     "name": "stdout",
     "output_type": "stream",
     "text": [
      "acqCountry\n",
      "US     774709\n",
      "         4562\n",
      "MEX      3130\n",
      "CAN      2424\n",
      "PR       1538\n",
      "Name: acqCountry, dtype: int64\n",
      "\n",
      "merchantCountryCode\n",
      "US     778511\n",
      "MEX      3143\n",
      "CAN      2426\n",
      "PR       1559\n",
      "          724\n",
      "Name: merchantCountryCode, dtype: int64\n",
      "\n",
      "posEntryMode\n",
      "05    315035\n",
      "09    236481\n",
      "02    195934\n",
      "90     19576\n",
      "80     15283\n",
      "        4054\n",
      "Name: posEntryMode, dtype: int64\n",
      "\n",
      "posConditionCode\n",
      "01    628787\n",
      "08    149634\n",
      "99      7533\n",
      "         409\n",
      "Name: posConditionCode, dtype: int64\n",
      "\n",
      "transactionType\n",
      "PURCHASE                745193\n",
      "REVERSAL                 20303\n",
      "ADDRESS_VERIFICATION     20169\n",
      "                           698\n",
      "Name: transactionType, dtype: int64\n",
      "\n",
      "echoBuffer\n",
      "    786363\n",
      "Name: echoBuffer, dtype: int64\n",
      "\n",
      "merchantCity\n",
      "    786363\n",
      "Name: merchantCity, dtype: int64\n",
      "\n",
      "merchantState\n",
      "    786363\n",
      "Name: merchantState, dtype: int64\n",
      "\n",
      "merchantZip\n",
      "    786363\n",
      "Name: merchantZip, dtype: int64\n",
      "\n",
      "posOnPremises\n",
      "    786363\n",
      "Name: posOnPremises, dtype: int64\n",
      "\n",
      "recurringAuthInd\n",
      "    786363\n",
      "Name: recurringAuthInd, dtype: int64\n",
      "\n"
     ]
    }
   ],
   "source": [
    "# looking at the unique value counts\n",
    "\n",
    "for col in low_uniuqe_cols:\n",
    "    print(col)\n",
    "    print(df[col].value_counts())\n",
    "    print()"
   ]
  },
  {
   "cell_type": "markdown",
   "id": "07e72f80",
   "metadata": {},
   "source": [
    "> Above data shows below missing values corresponding to columns\n",
    "\n",
    "    * acqCountry has -> 4562\n",
    "    * merchantCountryCode -> 724\n",
    "    * posEntryMode -> 4054\n",
    "    * posConditionCode -> 409\n",
    "    * transactionType -> 698\n"
   ]
  },
  {
   "cell_type": "code",
   "execution_count": 16,
   "id": "eee90525",
   "metadata": {
    "scrolled": true
   },
   "outputs": [
    {
     "data": {
      "text/plain": [
       "(6,\n",
       " ['echoBuffer',\n",
       "  'merchantCity',\n",
       "  'merchantState',\n",
       "  'merchantZip',\n",
       "  'posOnPremises',\n",
       "  'recurringAuthInd'])"
      ]
     },
     "execution_count": 16,
     "metadata": {},
     "output_type": "execute_result"
    }
   ],
   "source": [
    "# collecting redundant columns (unique value is 1) as they provide no extra information \n",
    "\n",
    "redundant_cols = []\n",
    "\n",
    "for col in object_cols:\n",
    "    if df[col].nunique() == 1:\n",
    "        redundant_cols.append(col)\n",
    "        \n",
    "len(redundant_cols),redundant_cols"
   ]
  },
  {
   "cell_type": "code",
   "execution_count": 17,
   "id": "7f4da0d1",
   "metadata": {},
   "outputs": [
    {
     "data": {
      "text/html": [
       "<div>\n",
       "<style scoped>\n",
       "    .dataframe tbody tr th:only-of-type {\n",
       "        vertical-align: middle;\n",
       "    }\n",
       "\n",
       "    .dataframe tbody tr th {\n",
       "        vertical-align: top;\n",
       "    }\n",
       "\n",
       "    .dataframe thead th {\n",
       "        text-align: right;\n",
       "    }\n",
       "</style>\n",
       "<table border=\"1\" class=\"dataframe\">\n",
       "  <thead>\n",
       "    <tr style=\"text-align: right;\">\n",
       "      <th></th>\n",
       "      <th>accountNumber</th>\n",
       "      <th>customerId</th>\n",
       "      <th>creditLimit</th>\n",
       "      <th>availableMoney</th>\n",
       "      <th>transactionDateTime</th>\n",
       "      <th>transactionAmount</th>\n",
       "      <th>merchantName</th>\n",
       "      <th>acqCountry</th>\n",
       "      <th>merchantCountryCode</th>\n",
       "      <th>posEntryMode</th>\n",
       "      <th>posConditionCode</th>\n",
       "      <th>merchantCategoryCode</th>\n",
       "      <th>currentExpDate</th>\n",
       "      <th>accountOpenDate</th>\n",
       "      <th>dateOfLastAddressChange</th>\n",
       "      <th>cardCVV</th>\n",
       "      <th>enteredCVV</th>\n",
       "      <th>cardLast4Digits</th>\n",
       "      <th>transactionType</th>\n",
       "      <th>currentBalance</th>\n",
       "      <th>cardPresent</th>\n",
       "      <th>expirationDateKeyInMatch</th>\n",
       "      <th>isFraud</th>\n",
       "    </tr>\n",
       "  </thead>\n",
       "  <tbody>\n",
       "    <tr>\n",
       "      <th>0</th>\n",
       "      <td>737265056</td>\n",
       "      <td>737265056</td>\n",
       "      <td>5000</td>\n",
       "      <td>5000.0</td>\n",
       "      <td>2016-08-13 14:27:32</td>\n",
       "      <td>98.55</td>\n",
       "      <td>Uber</td>\n",
       "      <td>US</td>\n",
       "      <td>US</td>\n",
       "      <td>02</td>\n",
       "      <td>01</td>\n",
       "      <td>rideshare</td>\n",
       "      <td>2023-06-01</td>\n",
       "      <td>2015-03-14</td>\n",
       "      <td>2015-03-14</td>\n",
       "      <td>414</td>\n",
       "      <td>414</td>\n",
       "      <td>1803</td>\n",
       "      <td>PURCHASE</td>\n",
       "      <td>0.0</td>\n",
       "      <td>0</td>\n",
       "      <td>0</td>\n",
       "      <td>0</td>\n",
       "    </tr>\n",
       "    <tr>\n",
       "      <th>1</th>\n",
       "      <td>737265056</td>\n",
       "      <td>737265056</td>\n",
       "      <td>5000</td>\n",
       "      <td>5000.0</td>\n",
       "      <td>2016-10-11 05:05:54</td>\n",
       "      <td>74.51</td>\n",
       "      <td>AMC #191138</td>\n",
       "      <td>US</td>\n",
       "      <td>US</td>\n",
       "      <td>09</td>\n",
       "      <td>01</td>\n",
       "      <td>entertainment</td>\n",
       "      <td>2024-02-01</td>\n",
       "      <td>2015-03-14</td>\n",
       "      <td>2015-03-14</td>\n",
       "      <td>486</td>\n",
       "      <td>486</td>\n",
       "      <td>767</td>\n",
       "      <td>PURCHASE</td>\n",
       "      <td>0.0</td>\n",
       "      <td>1</td>\n",
       "      <td>0</td>\n",
       "      <td>0</td>\n",
       "    </tr>\n",
       "    <tr>\n",
       "      <th>2</th>\n",
       "      <td>737265056</td>\n",
       "      <td>737265056</td>\n",
       "      <td>5000</td>\n",
       "      <td>5000.0</td>\n",
       "      <td>2016-11-08 09:18:39</td>\n",
       "      <td>7.47</td>\n",
       "      <td>Play Store</td>\n",
       "      <td>US</td>\n",
       "      <td>US</td>\n",
       "      <td>09</td>\n",
       "      <td>01</td>\n",
       "      <td>mobileapps</td>\n",
       "      <td>2025-08-01</td>\n",
       "      <td>2015-03-14</td>\n",
       "      <td>2015-03-14</td>\n",
       "      <td>486</td>\n",
       "      <td>486</td>\n",
       "      <td>767</td>\n",
       "      <td>PURCHASE</td>\n",
       "      <td>0.0</td>\n",
       "      <td>0</td>\n",
       "      <td>0</td>\n",
       "      <td>0</td>\n",
       "    </tr>\n",
       "    <tr>\n",
       "      <th>3</th>\n",
       "      <td>737265056</td>\n",
       "      <td>737265056</td>\n",
       "      <td>5000</td>\n",
       "      <td>5000.0</td>\n",
       "      <td>2016-12-10 02:14:50</td>\n",
       "      <td>7.47</td>\n",
       "      <td>Play Store</td>\n",
       "      <td>US</td>\n",
       "      <td>US</td>\n",
       "      <td>09</td>\n",
       "      <td>01</td>\n",
       "      <td>mobileapps</td>\n",
       "      <td>2025-08-01</td>\n",
       "      <td>2015-03-14</td>\n",
       "      <td>2015-03-14</td>\n",
       "      <td>486</td>\n",
       "      <td>486</td>\n",
       "      <td>767</td>\n",
       "      <td>PURCHASE</td>\n",
       "      <td>0.0</td>\n",
       "      <td>0</td>\n",
       "      <td>0</td>\n",
       "      <td>0</td>\n",
       "    </tr>\n",
       "    <tr>\n",
       "      <th>4</th>\n",
       "      <td>830329091</td>\n",
       "      <td>830329091</td>\n",
       "      <td>5000</td>\n",
       "      <td>5000.0</td>\n",
       "      <td>2016-03-24 21:04:46</td>\n",
       "      <td>71.18</td>\n",
       "      <td>Tim Hortons #947751</td>\n",
       "      <td>US</td>\n",
       "      <td>US</td>\n",
       "      <td>02</td>\n",
       "      <td>01</td>\n",
       "      <td>fastfood</td>\n",
       "      <td>2029-10-01</td>\n",
       "      <td>2015-08-06</td>\n",
       "      <td>2015-08-06</td>\n",
       "      <td>885</td>\n",
       "      <td>885</td>\n",
       "      <td>3143</td>\n",
       "      <td>PURCHASE</td>\n",
       "      <td>0.0</td>\n",
       "      <td>1</td>\n",
       "      <td>0</td>\n",
       "      <td>0</td>\n",
       "    </tr>\n",
       "  </tbody>\n",
       "</table>\n",
       "</div>"
      ],
      "text/plain": [
       "   accountNumber  customerId  creditLimit  availableMoney transactionDateTime  \\\n",
       "0      737265056   737265056         5000          5000.0 2016-08-13 14:27:32   \n",
       "1      737265056   737265056         5000          5000.0 2016-10-11 05:05:54   \n",
       "2      737265056   737265056         5000          5000.0 2016-11-08 09:18:39   \n",
       "3      737265056   737265056         5000          5000.0 2016-12-10 02:14:50   \n",
       "4      830329091   830329091         5000          5000.0 2016-03-24 21:04:46   \n",
       "\n",
       "   transactionAmount         merchantName acqCountry merchantCountryCode  \\\n",
       "0              98.55                 Uber         US                  US   \n",
       "1              74.51          AMC #191138         US                  US   \n",
       "2               7.47           Play Store         US                  US   \n",
       "3               7.47           Play Store         US                  US   \n",
       "4              71.18  Tim Hortons #947751         US                  US   \n",
       "\n",
       "  posEntryMode posConditionCode merchantCategoryCode currentExpDate  \\\n",
       "0           02               01            rideshare     2023-06-01   \n",
       "1           09               01        entertainment     2024-02-01   \n",
       "2           09               01           mobileapps     2025-08-01   \n",
       "3           09               01           mobileapps     2025-08-01   \n",
       "4           02               01             fastfood     2029-10-01   \n",
       "\n",
       "  accountOpenDate dateOfLastAddressChange  cardCVV  enteredCVV  \\\n",
       "0      2015-03-14              2015-03-14      414         414   \n",
       "1      2015-03-14              2015-03-14      486         486   \n",
       "2      2015-03-14              2015-03-14      486         486   \n",
       "3      2015-03-14              2015-03-14      486         486   \n",
       "4      2015-08-06              2015-08-06      885         885   \n",
       "\n",
       "   cardLast4Digits transactionType  currentBalance  cardPresent  \\\n",
       "0             1803        PURCHASE             0.0            0   \n",
       "1              767        PURCHASE             0.0            1   \n",
       "2              767        PURCHASE             0.0            0   \n",
       "3              767        PURCHASE             0.0            0   \n",
       "4             3143        PURCHASE             0.0            1   \n",
       "\n",
       "   expirationDateKeyInMatch  isFraud  \n",
       "0                         0        0  \n",
       "1                         0        0  \n",
       "2                         0        0  \n",
       "3                         0        0  \n",
       "4                         0        0  "
      ]
     },
     "execution_count": 17,
     "metadata": {},
     "output_type": "execute_result"
    }
   ],
   "source": [
    "# dropping redundant cols from the dataset\n",
    "\n",
    "df = df.drop(redundant_cols,axis= 1)\n",
    "\n",
    "df.head()"
   ]
  },
  {
   "cell_type": "markdown",
   "id": "fc291777",
   "metadata": {},
   "source": [
    "> Above analysis for NON OBJECT data types"
   ]
  },
  {
   "cell_type": "code",
   "execution_count": null,
   "id": "e27330cb",
   "metadata": {},
   "outputs": [],
   "source": []
  },
  {
   "cell_type": "code",
   "execution_count": 18,
   "id": "0036ec4e",
   "metadata": {},
   "outputs": [
    {
     "data": {
      "text/plain": [
       "16"
      ]
     },
     "execution_count": 18,
     "metadata": {},
     "output_type": "execute_result"
    }
   ],
   "source": [
    "# collecting all the columns with are non string types\n",
    "\n",
    "non_object_cols = df.select_dtypes(exclude = \"object\").columns\n",
    "\n",
    "len(non_object_cols)"
   ]
  },
  {
   "cell_type": "code",
   "execution_count": 19,
   "id": "b7ff04b9",
   "metadata": {},
   "outputs": [
    {
     "name": "stdout",
     "output_type": "stream",
     "text": [
      "accountNumber  --  5000\n",
      "customerId  --  5000\n",
      "creditLimit  --  10\n",
      "availableMoney  --  521915\n",
      "transactionDateTime  --  776637\n",
      "transactionAmount  --  66038\n",
      "currentExpDate  --  165\n",
      "accountOpenDate  --  1820\n",
      "dateOfLastAddressChange  --  2184\n",
      "cardCVV  --  899\n",
      "enteredCVV  --  976\n",
      "cardLast4Digits  --  5245\n",
      "currentBalance  --  487318\n",
      "cardPresent  --  2\n",
      "expirationDateKeyInMatch  --  2\n",
      "isFraud  --  2\n"
     ]
    }
   ],
   "source": [
    "# For Non object columns - checking the unique values correponding to each of the columns \n",
    "\n",
    "for col in non_object_cols:\n",
    "    print(col,df[col].nunique(),sep = \"  --  \")"
   ]
  },
  {
   "cell_type": "markdown",
   "id": "59038ac7",
   "metadata": {},
   "source": [
    "> Some obsevations abou the data\n",
    "\n",
    "    * There are 5000 unique account Numbers \n",
    "    * There are 5000 unique customer ids\n",
    "    * 899 and 976 card CVV and entered CVV"
   ]
  },
  {
   "cell_type": "code",
   "execution_count": 20,
   "id": "1c31e8c9",
   "metadata": {},
   "outputs": [
    {
     "data": {
      "text/plain": [
       "4"
      ]
     },
     "execution_count": 20,
     "metadata": {},
     "output_type": "execute_result"
    }
   ],
   "source": [
    "# Checking unique values of col which have less than 10 unique values and their corresponding data counts\n",
    "\n",
    "low_uniuqe_cols = []\n",
    "\n",
    "for col in non_object_cols:\n",
    "    if df[col].nunique() < 11:\n",
    "        low_uniuqe_cols.append(col)\n",
    "        \n",
    "len(low_uniuqe_cols)"
   ]
  },
  {
   "cell_type": "code",
   "execution_count": 21,
   "id": "d147c860",
   "metadata": {},
   "outputs": [
    {
     "name": "stdout",
     "output_type": "stream",
     "text": [
      "creditLimit\n",
      "[ 5000  2500 50000 15000 10000   250   500  1000  7500 20000]\n",
      "\n",
      "cardPresent\n",
      "[0 1]\n",
      "\n",
      "expirationDateKeyInMatch\n",
      "[0 1]\n",
      "\n",
      "isFraud\n",
      "[0 1]\n",
      "\n"
     ]
    }
   ],
   "source": [
    "for col in low_uniuqe_cols:\n",
    "    print(col)\n",
    "    print(df[col].unique())\n",
    "    print()"
   ]
  },
  {
   "cell_type": "code",
   "execution_count": 22,
   "id": "2804f793",
   "metadata": {},
   "outputs": [
    {
     "name": "stdout",
     "output_type": "stream",
     "text": [
      "creditLimit\n",
      "5000     201863\n",
      "15000    139307\n",
      "7500      97913\n",
      "2500      75429\n",
      "20000     68629\n",
      "10000     56889\n",
      "50000     48781\n",
      "1000      36430\n",
      "250       34025\n",
      "500       27097\n",
      "Name: creditLimit, dtype: int64\n",
      "\n",
      "cardPresent\n",
      "0    433495\n",
      "1    352868\n",
      "Name: cardPresent, dtype: int64\n",
      "\n",
      "expirationDateKeyInMatch\n",
      "0    785320\n",
      "1      1043\n",
      "Name: expirationDateKeyInMatch, dtype: int64\n",
      "\n",
      "isFraud\n",
      "0    773946\n",
      "1     12417\n",
      "Name: isFraud, dtype: int64\n",
      "\n"
     ]
    }
   ],
   "source": [
    "# looking at the unique value counts\n",
    "\n",
    "for col in low_uniuqe_cols:\n",
    "    print(col)\n",
    "    print(df[col].value_counts())\n",
    "    print()"
   ]
  },
  {
   "cell_type": "markdown",
   "id": "e69bab83",
   "metadata": {},
   "source": [
    "## data description"
   ]
  },
  {
   "cell_type": "code",
   "execution_count": 23,
   "id": "43cf7073",
   "metadata": {},
   "outputs": [
    {
     "data": {
      "text/html": [
       "<div>\n",
       "<style scoped>\n",
       "    .dataframe tbody tr th:only-of-type {\n",
       "        vertical-align: middle;\n",
       "    }\n",
       "\n",
       "    .dataframe tbody tr th {\n",
       "        vertical-align: top;\n",
       "    }\n",
       "\n",
       "    .dataframe thead th {\n",
       "        text-align: right;\n",
       "    }\n",
       "</style>\n",
       "<table border=\"1\" class=\"dataframe\">\n",
       "  <thead>\n",
       "    <tr style=\"text-align: right;\">\n",
       "      <th></th>\n",
       "      <th>accountNumber</th>\n",
       "      <th>customerId</th>\n",
       "      <th>creditLimit</th>\n",
       "      <th>availableMoney</th>\n",
       "      <th>transactionAmount</th>\n",
       "      <th>cardCVV</th>\n",
       "      <th>enteredCVV</th>\n",
       "      <th>cardLast4Digits</th>\n",
       "      <th>currentBalance</th>\n",
       "      <th>cardPresent</th>\n",
       "      <th>expirationDateKeyInMatch</th>\n",
       "      <th>isFraud</th>\n",
       "    </tr>\n",
       "  </thead>\n",
       "  <tbody>\n",
       "    <tr>\n",
       "      <th>count</th>\n",
       "      <td>7.863630e+05</td>\n",
       "      <td>7.863630e+05</td>\n",
       "      <td>786363.000000</td>\n",
       "      <td>786363.000000</td>\n",
       "      <td>786363.000000</td>\n",
       "      <td>786363.000000</td>\n",
       "      <td>786363.000000</td>\n",
       "      <td>786363.000000</td>\n",
       "      <td>786363.000000</td>\n",
       "      <td>786363.000000</td>\n",
       "      <td>786363.000000</td>\n",
       "      <td>786363.000000</td>\n",
       "    </tr>\n",
       "    <tr>\n",
       "      <th>mean</th>\n",
       "      <td>5.372326e+08</td>\n",
       "      <td>5.372326e+08</td>\n",
       "      <td>10759.464459</td>\n",
       "      <td>6250.725369</td>\n",
       "      <td>136.985791</td>\n",
       "      <td>544.467338</td>\n",
       "      <td>544.183857</td>\n",
       "      <td>4757.417799</td>\n",
       "      <td>4508.739089</td>\n",
       "      <td>0.448734</td>\n",
       "      <td>0.001326</td>\n",
       "      <td>0.015790</td>\n",
       "    </tr>\n",
       "    <tr>\n",
       "      <th>std</th>\n",
       "      <td>2.554211e+08</td>\n",
       "      <td>2.554211e+08</td>\n",
       "      <td>11636.174890</td>\n",
       "      <td>8880.783989</td>\n",
       "      <td>147.725569</td>\n",
       "      <td>261.524220</td>\n",
       "      <td>261.551254</td>\n",
       "      <td>2996.583810</td>\n",
       "      <td>6457.442068</td>\n",
       "      <td>0.497365</td>\n",
       "      <td>0.036395</td>\n",
       "      <td>0.124664</td>\n",
       "    </tr>\n",
       "    <tr>\n",
       "      <th>min</th>\n",
       "      <td>1.000881e+08</td>\n",
       "      <td>1.000881e+08</td>\n",
       "      <td>250.000000</td>\n",
       "      <td>-1005.630000</td>\n",
       "      <td>0.000000</td>\n",
       "      <td>100.000000</td>\n",
       "      <td>0.000000</td>\n",
       "      <td>0.000000</td>\n",
       "      <td>0.000000</td>\n",
       "      <td>0.000000</td>\n",
       "      <td>0.000000</td>\n",
       "      <td>0.000000</td>\n",
       "    </tr>\n",
       "    <tr>\n",
       "      <th>25%</th>\n",
       "      <td>3.301333e+08</td>\n",
       "      <td>3.301333e+08</td>\n",
       "      <td>5000.000000</td>\n",
       "      <td>1077.420000</td>\n",
       "      <td>33.650000</td>\n",
       "      <td>310.000000</td>\n",
       "      <td>310.000000</td>\n",
       "      <td>2178.000000</td>\n",
       "      <td>689.910000</td>\n",
       "      <td>0.000000</td>\n",
       "      <td>0.000000</td>\n",
       "      <td>0.000000</td>\n",
       "    </tr>\n",
       "    <tr>\n",
       "      <th>50%</th>\n",
       "      <td>5.074561e+08</td>\n",
       "      <td>5.074561e+08</td>\n",
       "      <td>7500.000000</td>\n",
       "      <td>3184.860000</td>\n",
       "      <td>87.900000</td>\n",
       "      <td>535.000000</td>\n",
       "      <td>535.000000</td>\n",
       "      <td>4733.000000</td>\n",
       "      <td>2451.760000</td>\n",
       "      <td>0.000000</td>\n",
       "      <td>0.000000</td>\n",
       "      <td>0.000000</td>\n",
       "    </tr>\n",
       "    <tr>\n",
       "      <th>75%</th>\n",
       "      <td>7.676200e+08</td>\n",
       "      <td>7.676200e+08</td>\n",
       "      <td>15000.000000</td>\n",
       "      <td>7500.000000</td>\n",
       "      <td>191.480000</td>\n",
       "      <td>785.000000</td>\n",
       "      <td>785.000000</td>\n",
       "      <td>7338.000000</td>\n",
       "      <td>5291.095000</td>\n",
       "      <td>1.000000</td>\n",
       "      <td>0.000000</td>\n",
       "      <td>0.000000</td>\n",
       "    </tr>\n",
       "    <tr>\n",
       "      <th>max</th>\n",
       "      <td>9.993896e+08</td>\n",
       "      <td>9.993896e+08</td>\n",
       "      <td>50000.000000</td>\n",
       "      <td>50000.000000</td>\n",
       "      <td>2011.540000</td>\n",
       "      <td>998.000000</td>\n",
       "      <td>998.000000</td>\n",
       "      <td>9998.000000</td>\n",
       "      <td>47498.810000</td>\n",
       "      <td>1.000000</td>\n",
       "      <td>1.000000</td>\n",
       "      <td>1.000000</td>\n",
       "    </tr>\n",
       "  </tbody>\n",
       "</table>\n",
       "</div>"
      ],
      "text/plain": [
       "       accountNumber    customerId    creditLimit  availableMoney  \\\n",
       "count   7.863630e+05  7.863630e+05  786363.000000   786363.000000   \n",
       "mean    5.372326e+08  5.372326e+08   10759.464459     6250.725369   \n",
       "std     2.554211e+08  2.554211e+08   11636.174890     8880.783989   \n",
       "min     1.000881e+08  1.000881e+08     250.000000    -1005.630000   \n",
       "25%     3.301333e+08  3.301333e+08    5000.000000     1077.420000   \n",
       "50%     5.074561e+08  5.074561e+08    7500.000000     3184.860000   \n",
       "75%     7.676200e+08  7.676200e+08   15000.000000     7500.000000   \n",
       "max     9.993896e+08  9.993896e+08   50000.000000    50000.000000   \n",
       "\n",
       "       transactionAmount        cardCVV     enteredCVV  cardLast4Digits  \\\n",
       "count      786363.000000  786363.000000  786363.000000    786363.000000   \n",
       "mean          136.985791     544.467338     544.183857      4757.417799   \n",
       "std           147.725569     261.524220     261.551254      2996.583810   \n",
       "min             0.000000     100.000000       0.000000         0.000000   \n",
       "25%            33.650000     310.000000     310.000000      2178.000000   \n",
       "50%            87.900000     535.000000     535.000000      4733.000000   \n",
       "75%           191.480000     785.000000     785.000000      7338.000000   \n",
       "max          2011.540000     998.000000     998.000000      9998.000000   \n",
       "\n",
       "       currentBalance    cardPresent  expirationDateKeyInMatch        isFraud  \n",
       "count   786363.000000  786363.000000             786363.000000  786363.000000  \n",
       "mean      4508.739089       0.448734                  0.001326       0.015790  \n",
       "std       6457.442068       0.497365                  0.036395       0.124664  \n",
       "min          0.000000       0.000000                  0.000000       0.000000  \n",
       "25%        689.910000       0.000000                  0.000000       0.000000  \n",
       "50%       2451.760000       0.000000                  0.000000       0.000000  \n",
       "75%       5291.095000       1.000000                  0.000000       0.000000  \n",
       "max      47498.810000       1.000000                  1.000000       1.000000  "
      ]
     },
     "execution_count": 23,
     "metadata": {},
     "output_type": "execute_result"
    }
   ],
   "source": [
    "df.select_dtypes(exclude = \"object\").describe()"
   ]
  },
  {
   "cell_type": "markdown",
   "id": "a0c9b338",
   "metadata": {},
   "source": [
    "> Max transcation amount = 2011"
   ]
  },
  {
   "cell_type": "markdown",
   "id": "184b378c",
   "metadata": {},
   "source": [
    "> If time permits - \n",
    "\n",
    "    * Duplicates in cardCVV, enteredCVV -> does mismatched CVV and enteredCVV have correlation ?\n",
    "    * Does each UNIQUE customer has UNIQUE account number ???"
   ]
  },
  {
   "cell_type": "markdown",
   "id": "b3c3ab82",
   "metadata": {},
   "source": [
    "##### 1.57 % of transcations are labelled as Fraud"
   ]
  },
  {
   "cell_type": "code",
   "execution_count": 24,
   "id": "fd5db59e",
   "metadata": {},
   "outputs": [
    {
     "data": {
      "text/plain": [
       "1.579041740264992"
      ]
     },
     "execution_count": 24,
     "metadata": {},
     "output_type": "execute_result"
    }
   ],
   "source": [
    "(df['isFraud'].sum()/len(df['isFraud'])) * 100"
   ]
  },
  {
   "cell_type": "markdown",
   "id": "ddef875b",
   "metadata": {},
   "source": [
    "# Plotting of data points"
   ]
  },
  {
   "cell_type": "code",
   "execution_count": 25,
   "id": "084dc406",
   "metadata": {},
   "outputs": [
    {
     "data": {
      "text/plain": [
       "<AxesSubplot: xlabel='transactionAmount', ylabel='Density'>"
      ]
     },
     "execution_count": 25,
     "metadata": {},
     "output_type": "execute_result"
    },
    {
     "data": {
      "image/png": "[encoded data removed]",
      "text/plain": [
       "<Figure size 640x480 with 1 Axes>"
      ]
     },
     "metadata": {},
     "output_type": "display_data"
    }
   ],
   "source": [
    "# plotting transaction amount \n",
    "\n",
    "sns.distplot(df['transactionAmount'])"
   ]
  },
  {
   "cell_type": "code",
   "execution_count": 26,
   "id": "ccfa5b5f",
   "metadata": {},
   "outputs": [
    {
     "data": {
      "text/plain": [
       "2.092246264815964"
      ]
     },
     "execution_count": 26,
     "metadata": {},
     "output_type": "execute_result"
    }
   ],
   "source": [
    "# transactionAmount skewness\n",
    "\n",
    "df['transactionAmount'].skew()"
   ]
  },
  {
   "cell_type": "markdown",
   "id": "cdc89a77",
   "metadata": {},
   "source": [
    "> This makes sense and people usually make small transcations and high transcations are rare"
   ]
  },
  {
   "cell_type": "code",
   "execution_count": null,
   "id": "38f1f308",
   "metadata": {},
   "outputs": [],
   "source": []
  },
  {
   "cell_type": "markdown",
   "id": "acaee67c",
   "metadata": {},
   "source": [
    "## Plotting other numerical columns"
   ]
  },
  {
   "cell_type": "code",
   "execution_count": 27,
   "id": "9c482ef2",
   "metadata": {},
   "outputs": [
    {
     "data": {
      "text/plain": [
       "['creditLimit', 'cardPresent', 'expirationDateKeyInMatch', 'isFraud']"
      ]
     },
     "execution_count": 27,
     "metadata": {},
     "output_type": "execute_result"
    }
   ],
   "source": [
    "low_uniuqe_cols # in non object type cols"
   ]
  },
  {
   "cell_type": "code",
   "execution_count": 28,
   "id": "8ba0a517",
   "metadata": {},
   "outputs": [
    {
     "data": {
      "text/plain": [
       "<AxesSubplot: title={'center': 'creditLimit'}>"
      ]
     },
     "execution_count": 28,
     "metadata": {},
     "output_type": "execute_result"
    },
    {
     "data": {
      "image/png": "[encoded data removed]",
      "text/plain": [
       "<Figure size 640x480 with 1 Axes>"
      ]
     },
     "metadata": {},
     "output_type": "display_data"
    }
   ],
   "source": [
    "ind = 0\n",
    "df[low_uniuqe_cols[ind]].value_counts().plot(kind='bar', color='green',title = low_uniuqe_cols[ind])"
   ]
  },
  {
   "cell_type": "markdown",
   "id": "d6cd0497",
   "metadata": {},
   "source": [
    "> 5000 credit limit card is most issued"
   ]
  },
  {
   "cell_type": "code",
   "execution_count": 29,
   "id": "bb4c17a4",
   "metadata": {},
   "outputs": [
    {
     "data": {
      "text/plain": [
       "<AxesSubplot: title={'center': 'cardPresent'}>"
      ]
     },
     "execution_count": 29,
     "metadata": {},
     "output_type": "execute_result"
    },
    {
     "data": {
      "image/png": "[encoded data removed]",
      "text/plain": [
       "<Figure size 640x480 with 1 Axes>"
      ]
     },
     "metadata": {},
     "output_type": "display_data"
    }
   ],
   "source": [
    "ind = 1\n",
    "df[low_uniuqe_cols[ind]].value_counts().plot(kind='bar', color='blue',title = low_uniuqe_cols[ind])"
   ]
  },
  {
   "cell_type": "code",
   "execution_count": 30,
   "id": "38b96573",
   "metadata": {},
   "outputs": [
    {
     "data": {
      "text/plain": [
       "<AxesSubplot: title={'center': 'expirationDateKeyInMatch'}>"
      ]
     },
     "execution_count": 30,
     "metadata": {},
     "output_type": "execute_result"
    },
    {
     "data": {
      "image/png": "[encoded data removed]",
      "text/plain": [
       "<Figure size 640x480 with 1 Axes>"
      ]
     },
     "metadata": {},
     "output_type": "display_data"
    }
   ],
   "source": [
    "ind = 2\n",
    "df[low_uniuqe_cols[ind]].value_counts().plot(kind='bar', color='orange',title = low_uniuqe_cols[ind])"
   ]
  },
  {
   "cell_type": "code",
   "execution_count": 31,
   "id": "1f2fa9d1",
   "metadata": {},
   "outputs": [
    {
     "data": {
      "text/plain": [
       "<AxesSubplot: title={'center': 'isFraud'}>"
      ]
     },
     "execution_count": 31,
     "metadata": {},
     "output_type": "execute_result"
    },
    {
     "data": {
      "image/png": "[encoded data removed]",
      "text/plain": [
       "<Figure size 640x480 with 1 Axes>"
      ]
     },
     "metadata": {},
     "output_type": "display_data"
    }
   ],
   "source": [
    "ind = 3\n",
    "df[low_uniuqe_cols[ind]].value_counts().plot(kind='bar', color='red',title = low_uniuqe_cols[ind])"
   ]
  },
  {
   "cell_type": "markdown",
   "id": "ad227edd",
   "metadata": {},
   "source": [
    "## Looking at the fraud transactions across credit limit"
   ]
  },
  {
   "cell_type": "code",
   "execution_count": 32,
   "id": "27d6cfc6",
   "metadata": {},
   "outputs": [
    {
     "data": {
      "text/plain": [
       "creditLimit\n",
       "250       407\n",
       "500       465\n",
       "1000      546\n",
       "2500     1116\n",
       "5000     3527\n",
       "7500     1290\n",
       "10000     766\n",
       "15000    2545\n",
       "20000     914\n",
       "50000     841\n",
       "Name: isFraud, dtype: int64"
      ]
     },
     "execution_count": 32,
     "metadata": {},
     "output_type": "execute_result"
    }
   ],
   "source": [
    "df.groupby('creditLimit')['isFraud'].sum()"
   ]
  },
  {
   "cell_type": "code",
   "execution_count": 33,
   "id": "5e9611fa",
   "metadata": {},
   "outputs": [
    {
     "data": {
      "text/plain": [
       "creditLimit\n",
       "250       34025\n",
       "500       27097\n",
       "1000      36430\n",
       "2500      75429\n",
       "5000     201863\n",
       "7500      97913\n",
       "10000     56889\n",
       "15000    139307\n",
       "20000     68629\n",
       "50000     48781\n",
       "Name: isFraud, dtype: int64"
      ]
     },
     "execution_count": 33,
     "metadata": {},
     "output_type": "execute_result"
    }
   ],
   "source": [
    "df.groupby('creditLimit')['isFraud'].count()"
   ]
  },
  {
   "cell_type": "code",
   "execution_count": 34,
   "id": "7311af55",
   "metadata": {},
   "outputs": [
    {
     "data": {
      "text/plain": [
       "creditLimit\n",
       "250      1.196179\n",
       "500      1.716057\n",
       "1000     1.498765\n",
       "2500     1.479537\n",
       "5000     1.747225\n",
       "7500     1.317496\n",
       "10000    1.346482\n",
       "15000    1.826900\n",
       "20000    1.331799\n",
       "50000    1.724032\n",
       "Name: isFraud, dtype: float64"
      ]
     },
     "execution_count": 34,
     "metadata": {},
     "output_type": "execute_result"
    }
   ],
   "source": [
    "((df.groupby('creditLimit')['isFraud'].sum()/df.groupby('creditLimit')['isFraud'].count())*100)"
   ]
  },
  {
   "cell_type": "markdown",
   "id": "b2dc2379",
   "metadata": {},
   "source": [
    "> 15K cards have the highest fraud percentage\n",
    "\n",
    "> 250$ have the lowest"
   ]
  },
  {
   "cell_type": "code",
   "execution_count": 35,
   "id": "c6ae68c2",
   "metadata": {},
   "outputs": [
    {
     "data": {
      "text/plain": [
       "<AxesSubplot: title={'center': '% Fraud'}, xlabel='creditLimit'>"
      ]
     },
     "execution_count": 35,
     "metadata": {},
     "output_type": "execute_result"
    },
    {
     "data": {
      "image/png": "[encoded data removed]",
      "text/plain": [
       "<Figure size 640x480 with 1 Axes>"
      ]
     },
     "metadata": {},
     "output_type": "display_data"
    }
   ],
   "source": [
    "((df.groupby('creditLimit')['isFraud'].sum()/df.groupby('creditLimit')['isFraud'].count())*100).plot(kind='bar', color='violet',title = '% Fraud')"
   ]
  },
  {
   "cell_type": "markdown",
   "id": "bfd0d89f",
   "metadata": {},
   "source": [
    "# Data Wrangling - Duplicate Transactions"
   ]
  },
  {
   "cell_type": "code",
   "execution_count": 36,
   "id": "97b90c60",
   "metadata": {},
   "outputs": [
    {
     "data": {
      "text/plain": [
       "PURCHASE                745193\n",
       "REVERSAL                 20303\n",
       "ADDRESS_VERIFICATION     20169\n",
       "                           698\n",
       "Name: transactionType, dtype: int64"
      ]
     },
     "execution_count": 36,
     "metadata": {},
     "output_type": "execute_result"
    }
   ],
   "source": [
    "df['transactionType'].value_counts()"
   ]
  },
  {
   "cell_type": "code",
   "execution_count": 37,
   "id": "bef9dad3",
   "metadata": {},
   "outputs": [],
   "source": [
    "## address verification - transaction type df\n",
    "add_ver_df = df[df['transactionType'] == 'ADDRESS_VERIFICATION']\n",
    "\n",
    "## missing transaction type df\n",
    "missing_tran_ty_df = df[df['transactionType'] == '']\n",
    "\n",
    "## Purchase - transaction type df\n",
    "purchase_df = df[df['transactionType'] == 'PURCHASE']\n",
    "\n",
    "## Reversal transaction type df\n",
    "reverse_df = df[df['transactionType'] == 'REVERSAL']"
   ]
  },
  {
   "cell_type": "code",
   "execution_count": 38,
   "id": "56d13a37",
   "metadata": {},
   "outputs": [
    {
     "data": {
      "text/html": [
       "<div>\n",
       "<style scoped>\n",
       "    .dataframe tbody tr th:only-of-type {\n",
       "        vertical-align: middle;\n",
       "    }\n",
       "\n",
       "    .dataframe tbody tr th {\n",
       "        vertical-align: top;\n",
       "    }\n",
       "\n",
       "    .dataframe thead th {\n",
       "        text-align: right;\n",
       "    }\n",
       "</style>\n",
       "<table border=\"1\" class=\"dataframe\">\n",
       "  <thead>\n",
       "    <tr style=\"text-align: right;\">\n",
       "      <th></th>\n",
       "      <th>accountNumber</th>\n",
       "      <th>customerId</th>\n",
       "      <th>creditLimit</th>\n",
       "      <th>availableMoney</th>\n",
       "      <th>transactionDateTime</th>\n",
       "      <th>transactionAmount</th>\n",
       "      <th>merchantName</th>\n",
       "      <th>acqCountry</th>\n",
       "      <th>merchantCountryCode</th>\n",
       "      <th>posEntryMode</th>\n",
       "      <th>posConditionCode</th>\n",
       "      <th>merchantCategoryCode</th>\n",
       "      <th>currentExpDate</th>\n",
       "      <th>accountOpenDate</th>\n",
       "      <th>dateOfLastAddressChange</th>\n",
       "      <th>cardCVV</th>\n",
       "      <th>enteredCVV</th>\n",
       "      <th>cardLast4Digits</th>\n",
       "      <th>transactionType</th>\n",
       "      <th>currentBalance</th>\n",
       "      <th>cardPresent</th>\n",
       "      <th>expirationDateKeyInMatch</th>\n",
       "      <th>isFraud</th>\n",
       "    </tr>\n",
       "  </thead>\n",
       "  <tbody>\n",
       "    <tr>\n",
       "      <th>17</th>\n",
       "      <td>574788567</td>\n",
       "      <td>574788567</td>\n",
       "      <td>2500</td>\n",
       "      <td>2428.67</td>\n",
       "      <td>2016-01-26 14:04:22</td>\n",
       "      <td>0.0</td>\n",
       "      <td>Convenient Auto Services</td>\n",
       "      <td>US</td>\n",
       "      <td>US</td>\n",
       "      <td>09</td>\n",
       "      <td>01</td>\n",
       "      <td>auto</td>\n",
       "      <td>2025-08-01</td>\n",
       "      <td>2015-10-13</td>\n",
       "      <td>2015-10-13</td>\n",
       "      <td>206</td>\n",
       "      <td>206</td>\n",
       "      <td>8522</td>\n",
       "      <td>ADDRESS_VERIFICATION</td>\n",
       "      <td>71.33</td>\n",
       "      <td>0</td>\n",
       "      <td>0</td>\n",
       "      <td>0</td>\n",
       "    </tr>\n",
       "    <tr>\n",
       "      <th>60</th>\n",
       "      <td>574788567</td>\n",
       "      <td>574788567</td>\n",
       "      <td>2500</td>\n",
       "      <td>2500.00</td>\n",
       "      <td>2016-09-02 07:57:44</td>\n",
       "      <td>0.0</td>\n",
       "      <td>Washington Tire</td>\n",
       "      <td>US</td>\n",
       "      <td>US</td>\n",
       "      <td>09</td>\n",
       "      <td>01</td>\n",
       "      <td>auto</td>\n",
       "      <td>2027-04-01</td>\n",
       "      <td>2015-10-13</td>\n",
       "      <td>2015-10-13</td>\n",
       "      <td>579</td>\n",
       "      <td>579</td>\n",
       "      <td>4219</td>\n",
       "      <td>ADDRESS_VERIFICATION</td>\n",
       "      <td>0.00</td>\n",
       "      <td>0</td>\n",
       "      <td>0</td>\n",
       "      <td>0</td>\n",
       "    </tr>\n",
       "    <tr>\n",
       "      <th>78</th>\n",
       "      <td>574788567</td>\n",
       "      <td>574788567</td>\n",
       "      <td>2500</td>\n",
       "      <td>2208.54</td>\n",
       "      <td>2016-10-29 11:01:00</td>\n",
       "      <td>0.0</td>\n",
       "      <td>Fast Tire</td>\n",
       "      <td>US</td>\n",
       "      <td>US</td>\n",
       "      <td>09</td>\n",
       "      <td>08</td>\n",
       "      <td>auto</td>\n",
       "      <td>2026-12-01</td>\n",
       "      <td>2015-10-13</td>\n",
       "      <td>2015-10-13</td>\n",
       "      <td>579</td>\n",
       "      <td>579</td>\n",
       "      <td>4219</td>\n",
       "      <td>ADDRESS_VERIFICATION</td>\n",
       "      <td>291.46</td>\n",
       "      <td>0</td>\n",
       "      <td>0</td>\n",
       "      <td>0</td>\n",
       "    </tr>\n",
       "    <tr>\n",
       "      <th>102</th>\n",
       "      <td>924729945</td>\n",
       "      <td>924729945</td>\n",
       "      <td>50000</td>\n",
       "      <td>50000.00</td>\n",
       "      <td>2016-10-23 14:00:41</td>\n",
       "      <td>0.0</td>\n",
       "      <td>apple.com</td>\n",
       "      <td>US</td>\n",
       "      <td>US</td>\n",
       "      <td>09</td>\n",
       "      <td>08</td>\n",
       "      <td>online_retail</td>\n",
       "      <td>2027-11-01</td>\n",
       "      <td>2014-07-25</td>\n",
       "      <td>2014-07-25</td>\n",
       "      <td>205</td>\n",
       "      <td>205</td>\n",
       "      <td>9459</td>\n",
       "      <td>ADDRESS_VERIFICATION</td>\n",
       "      <td>0.00</td>\n",
       "      <td>0</td>\n",
       "      <td>0</td>\n",
       "      <td>0</td>\n",
       "    </tr>\n",
       "    <tr>\n",
       "      <th>116</th>\n",
       "      <td>984504651</td>\n",
       "      <td>984504651</td>\n",
       "      <td>50000</td>\n",
       "      <td>48562.35</td>\n",
       "      <td>2016-01-08 19:40:01</td>\n",
       "      <td>0.0</td>\n",
       "      <td>Walgreens #417535</td>\n",
       "      <td>US</td>\n",
       "      <td>US</td>\n",
       "      <td>05</td>\n",
       "      <td>08</td>\n",
       "      <td>health</td>\n",
       "      <td>2029-11-01</td>\n",
       "      <td>2015-07-27</td>\n",
       "      <td>2015-07-27</td>\n",
       "      <td>640</td>\n",
       "      <td>640</td>\n",
       "      <td>8332</td>\n",
       "      <td>ADDRESS_VERIFICATION</td>\n",
       "      <td>1437.65</td>\n",
       "      <td>0</td>\n",
       "      <td>0</td>\n",
       "      <td>0</td>\n",
       "    </tr>\n",
       "  </tbody>\n",
       "</table>\n",
       "</div>"
      ],
      "text/plain": [
       "     accountNumber  customerId  creditLimit  availableMoney  \\\n",
       "17       574788567   574788567         2500         2428.67   \n",
       "60       574788567   574788567         2500         2500.00   \n",
       "78       574788567   574788567         2500         2208.54   \n",
       "102      924729945   924729945        50000        50000.00   \n",
       "116      984504651   984504651        50000        48562.35   \n",
       "\n",
       "    transactionDateTime  transactionAmount              merchantName  \\\n",
       "17  2016-01-26 14:04:22                0.0  Convenient Auto Services   \n",
       "60  2016-09-02 07:57:44                0.0           Washington Tire   \n",
       "78  2016-10-29 11:01:00                0.0                 Fast Tire   \n",
       "102 2016-10-23 14:00:41                0.0                 apple.com   \n",
       "116 2016-01-08 19:40:01                0.0         Walgreens #417535   \n",
       "\n",
       "    acqCountry merchantCountryCode posEntryMode posConditionCode  \\\n",
       "17          US                  US           09               01   \n",
       "60          US                  US           09               01   \n",
       "78          US                  US           09               08   \n",
       "102         US                  US           09               08   \n",
       "116         US                  US           05               08   \n",
       "\n",
       "    merchantCategoryCode currentExpDate accountOpenDate  \\\n",
       "17                  auto     2025-08-01      2015-10-13   \n",
       "60                  auto     2027-04-01      2015-10-13   \n",
       "78                  auto     2026-12-01      2015-10-13   \n",
       "102        online_retail     2027-11-01      2014-07-25   \n",
       "116               health     2029-11-01      2015-07-27   \n",
       "\n",
       "    dateOfLastAddressChange  cardCVV  enteredCVV  cardLast4Digits  \\\n",
       "17               2015-10-13      206         206             8522   \n",
       "60               2015-10-13      579         579             4219   \n",
       "78               2015-10-13      579         579             4219   \n",
       "102              2014-07-25      205         205             9459   \n",
       "116              2015-07-27      640         640             8332   \n",
       "\n",
       "          transactionType  currentBalance  cardPresent  \\\n",
       "17   ADDRESS_VERIFICATION           71.33            0   \n",
       "60   ADDRESS_VERIFICATION            0.00            0   \n",
       "78   ADDRESS_VERIFICATION          291.46            0   \n",
       "102  ADDRESS_VERIFICATION            0.00            0   \n",
       "116  ADDRESS_VERIFICATION         1437.65            0   \n",
       "\n",
       "     expirationDateKeyInMatch  isFraud  \n",
       "17                          0        0  \n",
       "60                          0        0  \n",
       "78                          0        0  \n",
       "102                         0        0  \n",
       "116                         0        0  "
      ]
     },
     "execution_count": 38,
     "metadata": {},
     "output_type": "execute_result"
    }
   ],
   "source": [
    "## looking at Address verification transactions\n",
    "\n",
    "\n",
    "add_ver_df.head()"
   ]
  },
  {
   "cell_type": "markdown",
   "id": "2b6327dd",
   "metadata": {},
   "source": [
    "> Above data frame shows transaction amount to be ZERO (checking if it is true for all the transactions)"
   ]
  },
  {
   "cell_type": "code",
   "execution_count": 39,
   "id": "3f3489d7",
   "metadata": {},
   "outputs": [
    {
     "data": {
      "text/plain": [
       "0.0"
      ]
     },
     "execution_count": 39,
     "metadata": {},
     "output_type": "execute_result"
    }
   ],
   "source": [
    "add_ver_df['transactionAmount'].sum() "
   ]
  },
  {
   "cell_type": "code",
   "execution_count": 40,
   "id": "dc7d3065",
   "metadata": {},
   "outputs": [
    {
     "data": {
      "text/plain": [
       "108459.78"
      ]
     },
     "execution_count": 40,
     "metadata": {},
     "output_type": "execute_result"
    }
   ],
   "source": [
    "missing_tran_ty_df['transactionAmount'].sum()"
   ]
  },
  {
   "cell_type": "code",
   "execution_count": 41,
   "id": "14582086",
   "metadata": {},
   "outputs": [
    {
     "data": {
      "text/plain": [
       "2821792.5"
      ]
     },
     "execution_count": 41,
     "metadata": {},
     "output_type": "execute_result"
    }
   ],
   "source": [
    "reverse_df['transactionAmount'].sum()"
   ]
  },
  {
   "cell_type": "code",
   "execution_count": 42,
   "id": "55cb8f67",
   "metadata": {},
   "outputs": [
    {
     "data": {
      "text/plain": [
       "104790305.25"
      ]
     },
     "execution_count": 42,
     "metadata": {},
     "output_type": "execute_result"
    }
   ],
   "source": [
    "purchase_df['transactionAmount'].sum()"
   ]
  },
  {
   "cell_type": "code",
   "execution_count": null,
   "id": "eae7cfaa",
   "metadata": {},
   "outputs": [],
   "source": []
  },
  {
   "cell_type": "code",
   "execution_count": null,
   "id": "6356128f",
   "metadata": {},
   "outputs": [],
   "source": []
  },
  {
   "cell_type": "markdown",
   "id": "85089486",
   "metadata": {},
   "source": [
    "## Reversed transactions"
   ]
  },
  {
   "cell_type": "code",
   "execution_count": 43,
   "id": "ac411b28",
   "metadata": {},
   "outputs": [
    {
     "data": {
      "text/html": [
       "<div>\n",
       "<style scoped>\n",
       "    .dataframe tbody tr th:only-of-type {\n",
       "        vertical-align: middle;\n",
       "    }\n",
       "\n",
       "    .dataframe tbody tr th {\n",
       "        vertical-align: top;\n",
       "    }\n",
       "\n",
       "    .dataframe thead th {\n",
       "        text-align: right;\n",
       "    }\n",
       "</style>\n",
       "<table border=\"1\" class=\"dataframe\">\n",
       "  <thead>\n",
       "    <tr style=\"text-align: right;\">\n",
       "      <th></th>\n",
       "      <th>accountNumber</th>\n",
       "      <th>customerId</th>\n",
       "      <th>creditLimit</th>\n",
       "      <th>availableMoney</th>\n",
       "      <th>transactionDateTime</th>\n",
       "      <th>transactionAmount</th>\n",
       "      <th>merchantName</th>\n",
       "      <th>acqCountry</th>\n",
       "      <th>merchantCountryCode</th>\n",
       "      <th>posEntryMode</th>\n",
       "      <th>posConditionCode</th>\n",
       "      <th>merchantCategoryCode</th>\n",
       "      <th>currentExpDate</th>\n",
       "      <th>accountOpenDate</th>\n",
       "      <th>dateOfLastAddressChange</th>\n",
       "      <th>cardCVV</th>\n",
       "      <th>enteredCVV</th>\n",
       "      <th>cardLast4Digits</th>\n",
       "      <th>transactionType</th>\n",
       "      <th>currentBalance</th>\n",
       "      <th>cardPresent</th>\n",
       "      <th>expirationDateKeyInMatch</th>\n",
       "      <th>isFraud</th>\n",
       "    </tr>\n",
       "  </thead>\n",
       "  <tbody>\n",
       "    <tr>\n",
       "      <th>39</th>\n",
       "      <td>574788567</td>\n",
       "      <td>574788567</td>\n",
       "      <td>2500</td>\n",
       "      <td>2200.98</td>\n",
       "      <td>2016-05-24 01:38:03</td>\n",
       "      <td>215.13</td>\n",
       "      <td>Convenient Tire</td>\n",
       "      <td>US</td>\n",
       "      <td>US</td>\n",
       "      <td>09</td>\n",
       "      <td>01</td>\n",
       "      <td>auto</td>\n",
       "      <td>2021-10-01</td>\n",
       "      <td>2015-10-13</td>\n",
       "      <td>2015-10-13</td>\n",
       "      <td>206</td>\n",
       "      <td>206</td>\n",
       "      <td>8522</td>\n",
       "      <td>REVERSAL</td>\n",
       "      <td>299.02</td>\n",
       "      <td>1</td>\n",
       "      <td>0</td>\n",
       "      <td>0</td>\n",
       "    </tr>\n",
       "    <tr>\n",
       "      <th>73</th>\n",
       "      <td>574788567</td>\n",
       "      <td>574788567</td>\n",
       "      <td>2500</td>\n",
       "      <td>2432.72</td>\n",
       "      <td>2016-10-07 10:23:57</td>\n",
       "      <td>3.87</td>\n",
       "      <td>Eazy Repair</td>\n",
       "      <td>US</td>\n",
       "      <td>US</td>\n",
       "      <td>05</td>\n",
       "      <td>01</td>\n",
       "      <td>auto</td>\n",
       "      <td>2022-10-01</td>\n",
       "      <td>2015-10-13</td>\n",
       "      <td>2015-10-13</td>\n",
       "      <td>579</td>\n",
       "      <td>579</td>\n",
       "      <td>4219</td>\n",
       "      <td>REVERSAL</td>\n",
       "      <td>67.28</td>\n",
       "      <td>1</td>\n",
       "      <td>0</td>\n",
       "      <td>0</td>\n",
       "    </tr>\n",
       "    <tr>\n",
       "      <th>101</th>\n",
       "      <td>924729945</td>\n",
       "      <td>924729945</td>\n",
       "      <td>50000</td>\n",
       "      <td>49831.43</td>\n",
       "      <td>2016-10-19 14:01:45</td>\n",
       "      <td>168.57</td>\n",
       "      <td>discount.com</td>\n",
       "      <td>US</td>\n",
       "      <td>US</td>\n",
       "      <td>05</td>\n",
       "      <td>01</td>\n",
       "      <td>online_retail</td>\n",
       "      <td>2024-11-01</td>\n",
       "      <td>2014-07-25</td>\n",
       "      <td>2014-07-25</td>\n",
       "      <td>205</td>\n",
       "      <td>265</td>\n",
       "      <td>9459</td>\n",
       "      <td>REVERSAL</td>\n",
       "      <td>168.57</td>\n",
       "      <td>0</td>\n",
       "      <td>0</td>\n",
       "      <td>0</td>\n",
       "    </tr>\n",
       "    <tr>\n",
       "      <th>133</th>\n",
       "      <td>984504651</td>\n",
       "      <td>984504651</td>\n",
       "      <td>50000</td>\n",
       "      <td>46367.41</td>\n",
       "      <td>2016-01-16 09:53:15</td>\n",
       "      <td>450.74</td>\n",
       "      <td>Planet Fitness #849960</td>\n",
       "      <td>US</td>\n",
       "      <td>US</td>\n",
       "      <td>05</td>\n",
       "      <td>01</td>\n",
       "      <td>health</td>\n",
       "      <td>2028-08-01</td>\n",
       "      <td>2015-07-27</td>\n",
       "      <td>2015-07-27</td>\n",
       "      <td>640</td>\n",
       "      <td>640</td>\n",
       "      <td>8332</td>\n",
       "      <td>REVERSAL</td>\n",
       "      <td>3632.59</td>\n",
       "      <td>0</td>\n",
       "      <td>0</td>\n",
       "      <td>0</td>\n",
       "    </tr>\n",
       "    <tr>\n",
       "      <th>156</th>\n",
       "      <td>984504651</td>\n",
       "      <td>984504651</td>\n",
       "      <td>50000</td>\n",
       "      <td>41909.30</td>\n",
       "      <td>2016-01-25 20:39:15</td>\n",
       "      <td>81.73</td>\n",
       "      <td>AMC #724446</td>\n",
       "      <td>US</td>\n",
       "      <td>US</td>\n",
       "      <td>09</td>\n",
       "      <td>01</td>\n",
       "      <td>entertainment</td>\n",
       "      <td>2031-12-01</td>\n",
       "      <td>2015-07-27</td>\n",
       "      <td>2015-07-27</td>\n",
       "      <td>640</td>\n",
       "      <td>640</td>\n",
       "      <td>8332</td>\n",
       "      <td>REVERSAL</td>\n",
       "      <td>8090.70</td>\n",
       "      <td>1</td>\n",
       "      <td>0</td>\n",
       "      <td>0</td>\n",
       "    </tr>\n",
       "  </tbody>\n",
       "</table>\n",
       "</div>"
      ],
      "text/plain": [
       "     accountNumber  customerId  creditLimit  availableMoney  \\\n",
       "39       574788567   574788567         2500         2200.98   \n",
       "73       574788567   574788567         2500         2432.72   \n",
       "101      924729945   924729945        50000        49831.43   \n",
       "133      984504651   984504651        50000        46367.41   \n",
       "156      984504651   984504651        50000        41909.30   \n",
       "\n",
       "    transactionDateTime  transactionAmount            merchantName acqCountry  \\\n",
       "39  2016-05-24 01:38:03             215.13         Convenient Tire         US   \n",
       "73  2016-10-07 10:23:57               3.87             Eazy Repair         US   \n",
       "101 2016-10-19 14:01:45             168.57            discount.com         US   \n",
       "133 2016-01-16 09:53:15             450.74  Planet Fitness #849960         US   \n",
       "156 2016-01-25 20:39:15              81.73             AMC #724446         US   \n",
       "\n",
       "    merchantCountryCode posEntryMode posConditionCode merchantCategoryCode  \\\n",
       "39                   US           09               01                 auto   \n",
       "73                   US           05               01                 auto   \n",
       "101                  US           05               01        online_retail   \n",
       "133                  US           05               01               health   \n",
       "156                  US           09               01        entertainment   \n",
       "\n",
       "    currentExpDate accountOpenDate dateOfLastAddressChange  cardCVV  \\\n",
       "39      2021-10-01      2015-10-13              2015-10-13      206   \n",
       "73      2022-10-01      2015-10-13              2015-10-13      579   \n",
       "101     2024-11-01      2014-07-25              2014-07-25      205   \n",
       "133     2028-08-01      2015-07-27              2015-07-27      640   \n",
       "156     2031-12-01      2015-07-27              2015-07-27      640   \n",
       "\n",
       "     enteredCVV  cardLast4Digits transactionType  currentBalance  cardPresent  \\\n",
       "39          206             8522        REVERSAL          299.02            1   \n",
       "73          579             4219        REVERSAL           67.28            1   \n",
       "101         265             9459        REVERSAL          168.57            0   \n",
       "133         640             8332        REVERSAL         3632.59            0   \n",
       "156         640             8332        REVERSAL         8090.70            1   \n",
       "\n",
       "     expirationDateKeyInMatch  isFraud  \n",
       "39                          0        0  \n",
       "73                          0        0  \n",
       "101                         0        0  \n",
       "133                         0        0  \n",
       "156                         0        0  "
      ]
     },
     "execution_count": 43,
     "metadata": {},
     "output_type": "execute_result"
    }
   ],
   "source": [
    "reverse_df.head()"
   ]
  },
  {
   "cell_type": "code",
   "execution_count": 44,
   "id": "1c32297e",
   "metadata": {},
   "outputs": [
    {
     "data": {
      "text/plain": [
       "20303"
      ]
     },
     "execution_count": 44,
     "metadata": {},
     "output_type": "execute_result"
    }
   ],
   "source": [
    "len(reverse_df)"
   ]
  },
  {
   "cell_type": "code",
   "execution_count": 45,
   "id": "074bbd91",
   "metadata": {},
   "outputs": [
    {
     "data": {
      "text/html": [
       "<div>\n",
       "<style scoped>\n",
       "    .dataframe tbody tr th:only-of-type {\n",
       "        vertical-align: middle;\n",
       "    }\n",
       "\n",
       "    .dataframe tbody tr th {\n",
       "        vertical-align: top;\n",
       "    }\n",
       "\n",
       "    .dataframe thead th {\n",
       "        text-align: right;\n",
       "    }\n",
       "</style>\n",
       "<table border=\"1\" class=\"dataframe\">\n",
       "  <thead>\n",
       "    <tr style=\"text-align: right;\">\n",
       "      <th></th>\n",
       "      <th>accountNumber</th>\n",
       "      <th>customerId</th>\n",
       "      <th>creditLimit_x</th>\n",
       "      <th>availableMoney_x</th>\n",
       "      <th>transactionDateTime_x</th>\n",
       "      <th>transactionAmount</th>\n",
       "      <th>merchantName</th>\n",
       "      <th>acqCountry_x</th>\n",
       "      <th>merchantCountryCode_x</th>\n",
       "      <th>posEntryMode_x</th>\n",
       "      <th>posConditionCode_x</th>\n",
       "      <th>merchantCategoryCode_x</th>\n",
       "      <th>currentExpDate_x</th>\n",
       "      <th>accountOpenDate_x</th>\n",
       "      <th>dateOfLastAddressChange_x</th>\n",
       "      <th>cardCVV</th>\n",
       "      <th>enteredCVV_x</th>\n",
       "      <th>cardLast4Digits</th>\n",
       "      <th>transactionType_x</th>\n",
       "      <th>currentBalance_x</th>\n",
       "      <th>cardPresent_x</th>\n",
       "      <th>expirationDateKeyInMatch_x</th>\n",
       "      <th>isFraud_x</th>\n",
       "      <th>creditLimit_y</th>\n",
       "      <th>availableMoney_y</th>\n",
       "      <th>transactionDateTime_y</th>\n",
       "      <th>acqCountry_y</th>\n",
       "      <th>merchantCountryCode_y</th>\n",
       "      <th>posEntryMode_y</th>\n",
       "      <th>posConditionCode_y</th>\n",
       "      <th>merchantCategoryCode_y</th>\n",
       "      <th>currentExpDate_y</th>\n",
       "      <th>accountOpenDate_y</th>\n",
       "      <th>dateOfLastAddressChange_y</th>\n",
       "      <th>enteredCVV_y</th>\n",
       "      <th>transactionType_y</th>\n",
       "      <th>currentBalance_y</th>\n",
       "      <th>cardPresent_y</th>\n",
       "      <th>expirationDateKeyInMatch_y</th>\n",
       "      <th>isFraud_y</th>\n",
       "    </tr>\n",
       "  </thead>\n",
       "  <tbody>\n",
       "    <tr>\n",
       "      <th>0</th>\n",
       "      <td>574788567</td>\n",
       "      <td>574788567</td>\n",
       "      <td>2500</td>\n",
       "      <td>2200.98</td>\n",
       "      <td>2016-05-24 01:38:03</td>\n",
       "      <td>215.13</td>\n",
       "      <td>Convenient Tire</td>\n",
       "      <td>US</td>\n",
       "      <td>US</td>\n",
       "      <td>09</td>\n",
       "      <td>01</td>\n",
       "      <td>auto</td>\n",
       "      <td>2021-10-01</td>\n",
       "      <td>2015-10-13</td>\n",
       "      <td>2015-10-13</td>\n",
       "      <td>206</td>\n",
       "      <td>206</td>\n",
       "      <td>8522</td>\n",
       "      <td>REVERSAL</td>\n",
       "      <td>299.02</td>\n",
       "      <td>1</td>\n",
       "      <td>0</td>\n",
       "      <td>0</td>\n",
       "      <td>2500</td>\n",
       "      <td>2416.11</td>\n",
       "      <td>2016-05-24 01:35:33</td>\n",
       "      <td>US</td>\n",
       "      <td>US</td>\n",
       "      <td>09</td>\n",
       "      <td>01</td>\n",
       "      <td>auto</td>\n",
       "      <td>2021-10-01</td>\n",
       "      <td>2015-10-13</td>\n",
       "      <td>2015-10-13</td>\n",
       "      <td>206</td>\n",
       "      <td>PURCHASE</td>\n",
       "      <td>83.89</td>\n",
       "      <td>1</td>\n",
       "      <td>0</td>\n",
       "      <td>0</td>\n",
       "    </tr>\n",
       "    <tr>\n",
       "      <th>1</th>\n",
       "      <td>924729945</td>\n",
       "      <td>924729945</td>\n",
       "      <td>50000</td>\n",
       "      <td>49831.43</td>\n",
       "      <td>2016-10-19 14:01:45</td>\n",
       "      <td>168.57</td>\n",
       "      <td>discount.com</td>\n",
       "      <td>US</td>\n",
       "      <td>US</td>\n",
       "      <td>05</td>\n",
       "      <td>01</td>\n",
       "      <td>online_retail</td>\n",
       "      <td>2024-11-01</td>\n",
       "      <td>2014-07-25</td>\n",
       "      <td>2014-07-25</td>\n",
       "      <td>205</td>\n",
       "      <td>265</td>\n",
       "      <td>9459</td>\n",
       "      <td>REVERSAL</td>\n",
       "      <td>168.57</td>\n",
       "      <td>0</td>\n",
       "      <td>0</td>\n",
       "      <td>0</td>\n",
       "      <td>50000</td>\n",
       "      <td>50000.00</td>\n",
       "      <td>2016-10-04 04:20:04</td>\n",
       "      <td>US</td>\n",
       "      <td>US</td>\n",
       "      <td>05</td>\n",
       "      <td>01</td>\n",
       "      <td>online_retail</td>\n",
       "      <td>2024-11-01</td>\n",
       "      <td>2014-07-25</td>\n",
       "      <td>2014-07-25</td>\n",
       "      <td>265</td>\n",
       "      <td>PURCHASE</td>\n",
       "      <td>0.00</td>\n",
       "      <td>0</td>\n",
       "      <td>0</td>\n",
       "      <td>0</td>\n",
       "    </tr>\n",
       "    <tr>\n",
       "      <th>2</th>\n",
       "      <td>984504651</td>\n",
       "      <td>984504651</td>\n",
       "      <td>50000</td>\n",
       "      <td>46367.41</td>\n",
       "      <td>2016-01-16 09:53:15</td>\n",
       "      <td>450.74</td>\n",
       "      <td>Planet Fitness #849960</td>\n",
       "      <td>US</td>\n",
       "      <td>US</td>\n",
       "      <td>05</td>\n",
       "      <td>01</td>\n",
       "      <td>health</td>\n",
       "      <td>2028-08-01</td>\n",
       "      <td>2015-07-27</td>\n",
       "      <td>2015-07-27</td>\n",
       "      <td>640</td>\n",
       "      <td>640</td>\n",
       "      <td>8332</td>\n",
       "      <td>REVERSAL</td>\n",
       "      <td>3632.59</td>\n",
       "      <td>0</td>\n",
       "      <td>0</td>\n",
       "      <td>0</td>\n",
       "      <td>50000</td>\n",
       "      <td>46818.15</td>\n",
       "      <td>2016-01-16 09:52:30</td>\n",
       "      <td>US</td>\n",
       "      <td>US</td>\n",
       "      <td>05</td>\n",
       "      <td>01</td>\n",
       "      <td>health</td>\n",
       "      <td>2028-08-01</td>\n",
       "      <td>2015-07-27</td>\n",
       "      <td>2015-07-27</td>\n",
       "      <td>640</td>\n",
       "      <td>PURCHASE</td>\n",
       "      <td>3181.85</td>\n",
       "      <td>0</td>\n",
       "      <td>0</td>\n",
       "      <td>0</td>\n",
       "    </tr>\n",
       "    <tr>\n",
       "      <th>3</th>\n",
       "      <td>984504651</td>\n",
       "      <td>984504651</td>\n",
       "      <td>50000</td>\n",
       "      <td>41909.30</td>\n",
       "      <td>2016-01-25 20:39:15</td>\n",
       "      <td>81.73</td>\n",
       "      <td>AMC #724446</td>\n",
       "      <td>US</td>\n",
       "      <td>US</td>\n",
       "      <td>09</td>\n",
       "      <td>01</td>\n",
       "      <td>entertainment</td>\n",
       "      <td>2031-12-01</td>\n",
       "      <td>2015-07-27</td>\n",
       "      <td>2015-07-27</td>\n",
       "      <td>640</td>\n",
       "      <td>640</td>\n",
       "      <td>8332</td>\n",
       "      <td>REVERSAL</td>\n",
       "      <td>8090.70</td>\n",
       "      <td>1</td>\n",
       "      <td>0</td>\n",
       "      <td>0</td>\n",
       "      <td>50000</td>\n",
       "      <td>46341.05</td>\n",
       "      <td>2016-01-17 08:13:08</td>\n",
       "      <td>US</td>\n",
       "      <td>US</td>\n",
       "      <td>09</td>\n",
       "      <td>01</td>\n",
       "      <td>entertainment</td>\n",
       "      <td>2031-12-01</td>\n",
       "      <td>2015-07-27</td>\n",
       "      <td>2015-07-27</td>\n",
       "      <td>640</td>\n",
       "      <td>PURCHASE</td>\n",
       "      <td>3658.95</td>\n",
       "      <td>1</td>\n",
       "      <td>0</td>\n",
       "      <td>0</td>\n",
       "    </tr>\n",
       "    <tr>\n",
       "      <th>4</th>\n",
       "      <td>984504651</td>\n",
       "      <td>984504651</td>\n",
       "      <td>50000</td>\n",
       "      <td>38090.70</td>\n",
       "      <td>2016-02-04 00:14:42</td>\n",
       "      <td>83.64</td>\n",
       "      <td>1st Sandwitch Bar #801388</td>\n",
       "      <td>US</td>\n",
       "      <td>US</td>\n",
       "      <td>09</td>\n",
       "      <td>01</td>\n",
       "      <td>food</td>\n",
       "      <td>2025-11-01</td>\n",
       "      <td>2015-07-27</td>\n",
       "      <td>2015-07-27</td>\n",
       "      <td>640</td>\n",
       "      <td>640</td>\n",
       "      <td>8332</td>\n",
       "      <td>REVERSAL</td>\n",
       "      <td>11909.30</td>\n",
       "      <td>1</td>\n",
       "      <td>0</td>\n",
       "      <td>0</td>\n",
       "      <td>50000</td>\n",
       "      <td>49138.85</td>\n",
       "      <td>2016-01-06 04:08:06</td>\n",
       "      <td>US</td>\n",
       "      <td>US</td>\n",
       "      <td>09</td>\n",
       "      <td>01</td>\n",
       "      <td>food</td>\n",
       "      <td>2025-11-01</td>\n",
       "      <td>2015-07-27</td>\n",
       "      <td>2015-07-27</td>\n",
       "      <td>640</td>\n",
       "      <td>PURCHASE</td>\n",
       "      <td>861.15</td>\n",
       "      <td>1</td>\n",
       "      <td>0</td>\n",
       "      <td>0</td>\n",
       "    </tr>\n",
       "  </tbody>\n",
       "</table>\n",
       "</div>"
      ],
      "text/plain": [
       "   accountNumber  customerId  creditLimit_x  availableMoney_x  \\\n",
       "0      574788567   574788567           2500           2200.98   \n",
       "1      924729945   924729945          50000          49831.43   \n",
       "2      984504651   984504651          50000          46367.41   \n",
       "3      984504651   984504651          50000          41909.30   \n",
       "4      984504651   984504651          50000          38090.70   \n",
       "\n",
       "  transactionDateTime_x  transactionAmount               merchantName  \\\n",
       "0   2016-05-24 01:38:03             215.13            Convenient Tire   \n",
       "1   2016-10-19 14:01:45             168.57               discount.com   \n",
       "2   2016-01-16 09:53:15             450.74     Planet Fitness #849960   \n",
       "3   2016-01-25 20:39:15              81.73                AMC #724446   \n",
       "4   2016-02-04 00:14:42              83.64  1st Sandwitch Bar #801388   \n",
       "\n",
       "  acqCountry_x merchantCountryCode_x posEntryMode_x posConditionCode_x  \\\n",
       "0           US                    US             09                 01   \n",
       "1           US                    US             05                 01   \n",
       "2           US                    US             05                 01   \n",
       "3           US                    US             09                 01   \n",
       "4           US                    US             09                 01   \n",
       "\n",
       "  merchantCategoryCode_x currentExpDate_x accountOpenDate_x  \\\n",
       "0                   auto       2021-10-01        2015-10-13   \n",
       "1          online_retail       2024-11-01        2014-07-25   \n",
       "2                 health       2028-08-01        2015-07-27   \n",
       "3          entertainment       2031-12-01        2015-07-27   \n",
       "4                   food       2025-11-01        2015-07-27   \n",
       "\n",
       "  dateOfLastAddressChange_x  cardCVV  enteredCVV_x  cardLast4Digits  \\\n",
       "0                2015-10-13      206           206             8522   \n",
       "1                2014-07-25      205           265             9459   \n",
       "2                2015-07-27      640           640             8332   \n",
       "3                2015-07-27      640           640             8332   \n",
       "4                2015-07-27      640           640             8332   \n",
       "\n",
       "  transactionType_x  currentBalance_x  cardPresent_x  \\\n",
       "0          REVERSAL            299.02              1   \n",
       "1          REVERSAL            168.57              0   \n",
       "2          REVERSAL           3632.59              0   \n",
       "3          REVERSAL           8090.70              1   \n",
       "4          REVERSAL          11909.30              1   \n",
       "\n",
       "   expirationDateKeyInMatch_x  isFraud_x  creditLimit_y  availableMoney_y  \\\n",
       "0                           0          0           2500           2416.11   \n",
       "1                           0          0          50000          50000.00   \n",
       "2                           0          0          50000          46818.15   \n",
       "3                           0          0          50000          46341.05   \n",
       "4                           0          0          50000          49138.85   \n",
       "\n",
       "  transactionDateTime_y acqCountry_y merchantCountryCode_y posEntryMode_y  \\\n",
       "0   2016-05-24 01:35:33           US                    US             09   \n",
       "1   2016-10-04 04:20:04           US                    US             05   \n",
       "2   2016-01-16 09:52:30           US                    US             05   \n",
       "3   2016-01-17 08:13:08           US                    US             09   \n",
       "4   2016-01-06 04:08:06           US                    US             09   \n",
       "\n",
       "  posConditionCode_y merchantCategoryCode_y currentExpDate_y  \\\n",
       "0                 01                   auto       2021-10-01   \n",
       "1                 01          online_retail       2024-11-01   \n",
       "2                 01                 health       2028-08-01   \n",
       "3                 01          entertainment       2031-12-01   \n",
       "4                 01                   food       2025-11-01   \n",
       "\n",
       "  accountOpenDate_y dateOfLastAddressChange_y  enteredCVV_y transactionType_y  \\\n",
       "0        2015-10-13                2015-10-13           206          PURCHASE   \n",
       "1        2014-07-25                2014-07-25           265          PURCHASE   \n",
       "2        2015-07-27                2015-07-27           640          PURCHASE   \n",
       "3        2015-07-27                2015-07-27           640          PURCHASE   \n",
       "4        2015-07-27                2015-07-27           640          PURCHASE   \n",
       "\n",
       "   currentBalance_y  cardPresent_y  expirationDateKeyInMatch_y  isFraud_y  \n",
       "0             83.89              1                           0          0  \n",
       "1              0.00              0                           0          0  \n",
       "2           3181.85              0                           0          0  \n",
       "3           3658.95              1                           0          0  \n",
       "4            861.15              1                           0          0  "
      ]
     },
     "execution_count": 45,
     "metadata": {},
     "output_type": "execute_result"
    }
   ],
   "source": [
    "## Doing an inner join of reverse transaction type dataframe with purchase transaction type dataframe\n",
    "\n",
    "rev_pur_df = pd.merge(reverse_df,purchase_df,on=['accountNumber','customerId','transactionAmount','merchantName','cardCVV','cardLast4Digits'],how='inner')\n",
    "rev_pur_df.head()"
   ]
  },
  {
   "cell_type": "code",
   "execution_count": 46,
   "id": "c4337ce2",
   "metadata": {},
   "outputs": [
    {
     "data": {
      "text/plain": [
       "18126"
      ]
     },
     "execution_count": 46,
     "metadata": {},
     "output_type": "execute_result"
    }
   ],
   "source": [
    "len(rev_pur_df)"
   ]
  },
  {
   "cell_type": "code",
   "execution_count": 47,
   "id": "eeb3ffcb",
   "metadata": {},
   "outputs": [],
   "source": [
    "rev_pur_df['reversal_time'] = rev_pur_df['transactionDateTime_x'] - rev_pur_df['transactionDateTime_y']"
   ]
  },
  {
   "cell_type": "code",
   "execution_count": 48,
   "id": "be56072f",
   "metadata": {},
   "outputs": [
    {
     "data": {
      "text/plain": [
       "(Timedelta('-350 days +01:25:36'), Timedelta('318 days 07:02:35'))"
      ]
     },
     "execution_count": 48,
     "metadata": {},
     "output_type": "execute_result"
    }
   ],
   "source": [
    "rev_pur_df['reversal_time'].min(),rev_pur_df['reversal_time'].max()"
   ]
  },
  {
   "cell_type": "markdown",
   "id": "efd8d959",
   "metadata": {},
   "source": [
    "> -ve reversal time seems unrealistic (need more business domain knowledge - could be due once reversal of monthly subscription charge being mapped to all the subscription purchases)\n",
    "\n",
    "\n",
    "> Also 318 days for reversing the transactions seems too long (assuming 30 days to be standard will do the calcualtions)"
   ]
  },
  {
   "cell_type": "code",
   "execution_count": 49,
   "id": "1aeec1b5",
   "metadata": {},
   "outputs": [
    {
     "data": {
      "text/plain": [
       "(array([4.0000e+00, 1.0000e+00, 5.0000e+00, 1.5000e+01, 1.0000e+00,\n",
       "        5.0000e+00, 6.0000e+00, 1.5000e+01, 1.5000e+01, 1.6000e+01,\n",
       "        1.2765e+04, 5.2140e+03, 1.0000e+01, 1.6000e+01, 9.0000e+00,\n",
       "        9.0000e+00, 6.0000e+00, 4.0000e+00, 4.0000e+00, 6.0000e+00]),\n",
       " array([-349.94055556, -316.52885475, -283.11715394, -249.70545312,\n",
       "        -216.29375231, -182.8820515 , -149.47035069, -116.05864988,\n",
       "         -82.64694907,  -49.23524826,  -15.82354745,   17.58815336,\n",
       "          50.99985417,   84.41155498,  117.82325579,  151.2349566 ,\n",
       "         184.64665741,  218.05835822,  251.47005903,  284.88175984,\n",
       "         318.29346065]),\n",
       " <BarContainer object of 20 artists>)"
      ]
     },
     "execution_count": 49,
     "metadata": {},
     "output_type": "execute_result"
    },
    {
     "data": {
      "image/png": "[encoded data removed]",
      "text/plain": [
       "<Figure size 640x480 with 1 Axes>"
      ]
     },
     "metadata": {},
     "output_type": "display_data"
    }
   ],
   "source": [
    "plt.hist(rev_pur_df['reversal_time']/pd.Timedelta(days = 1),bins = 20)"
   ]
  },
  {
   "cell_type": "code",
   "execution_count": 52,
   "id": "4ef391c5",
   "metadata": {},
   "outputs": [],
   "source": [
    "## For negative reversal time\n",
    "\n",
    "invalid_rev_transactions_df = rev_pur_df[rev_pur_df['reversal_time'] < dt.timedelta(seconds = 0)]"
   ]
  },
  {
   "cell_type": "code",
   "execution_count": 53,
   "id": "cac866bd",
   "metadata": {},
   "outputs": [
    {
     "data": {
      "text/html": [
       "<div>\n",
       "<style scoped>\n",
       "    .dataframe tbody tr th:only-of-type {\n",
       "        vertical-align: middle;\n",
       "    }\n",
       "\n",
       "    .dataframe tbody tr th {\n",
       "        vertical-align: top;\n",
       "    }\n",
       "\n",
       "    .dataframe thead th {\n",
       "        text-align: right;\n",
       "    }\n",
       "</style>\n",
       "<table border=\"1\" class=\"dataframe\">\n",
       "  <thead>\n",
       "    <tr style=\"text-align: right;\">\n",
       "      <th></th>\n",
       "      <th>accountNumber</th>\n",
       "      <th>customerId</th>\n",
       "      <th>creditLimit_x</th>\n",
       "      <th>availableMoney_x</th>\n",
       "      <th>transactionDateTime_x</th>\n",
       "      <th>transactionAmount</th>\n",
       "      <th>merchantName</th>\n",
       "      <th>acqCountry_x</th>\n",
       "      <th>merchantCountryCode_x</th>\n",
       "      <th>posEntryMode_x</th>\n",
       "      <th>posConditionCode_x</th>\n",
       "      <th>merchantCategoryCode_x</th>\n",
       "      <th>currentExpDate_x</th>\n",
       "      <th>accountOpenDate_x</th>\n",
       "      <th>dateOfLastAddressChange_x</th>\n",
       "      <th>cardCVV</th>\n",
       "      <th>enteredCVV_x</th>\n",
       "      <th>cardLast4Digits</th>\n",
       "      <th>transactionType_x</th>\n",
       "      <th>currentBalance_x</th>\n",
       "      <th>cardPresent_x</th>\n",
       "      <th>expirationDateKeyInMatch_x</th>\n",
       "      <th>isFraud_x</th>\n",
       "      <th>creditLimit_y</th>\n",
       "      <th>availableMoney_y</th>\n",
       "      <th>transactionDateTime_y</th>\n",
       "      <th>acqCountry_y</th>\n",
       "      <th>merchantCountryCode_y</th>\n",
       "      <th>posEntryMode_y</th>\n",
       "      <th>posConditionCode_y</th>\n",
       "      <th>merchantCategoryCode_y</th>\n",
       "      <th>currentExpDate_y</th>\n",
       "      <th>accountOpenDate_y</th>\n",
       "      <th>dateOfLastAddressChange_y</th>\n",
       "      <th>enteredCVV_y</th>\n",
       "      <th>transactionType_y</th>\n",
       "      <th>currentBalance_y</th>\n",
       "      <th>cardPresent_y</th>\n",
       "      <th>expirationDateKeyInMatch_y</th>\n",
       "      <th>isFraud_y</th>\n",
       "      <th>reversal_time</th>\n",
       "    </tr>\n",
       "  </thead>\n",
       "  <tbody>\n",
       "    <tr>\n",
       "      <th>815</th>\n",
       "      <td>442799740</td>\n",
       "      <td>442799740</td>\n",
       "      <td>15000</td>\n",
       "      <td>3595.31</td>\n",
       "      <td>2016-05-20 20:57:04</td>\n",
       "      <td>110.48</td>\n",
       "      <td>Uber</td>\n",
       "      <td>US</td>\n",
       "      <td>US</td>\n",
       "      <td>05</td>\n",
       "      <td>01</td>\n",
       "      <td>rideshare</td>\n",
       "      <td>2032-01-01</td>\n",
       "      <td>2015-10-28</td>\n",
       "      <td>2016-05-19</td>\n",
       "      <td>494</td>\n",
       "      <td>494</td>\n",
       "      <td>3018</td>\n",
       "      <td>REVERSAL</td>\n",
       "      <td>11404.69</td>\n",
       "      <td>0</td>\n",
       "      <td>0</td>\n",
       "      <td>0</td>\n",
       "      <td>15000</td>\n",
       "      <td>5952.48</td>\n",
       "      <td>2016-07-19 20:11:30</td>\n",
       "      <td>US</td>\n",
       "      <td>US</td>\n",
       "      <td>09</td>\n",
       "      <td>01</td>\n",
       "      <td>rideshare</td>\n",
       "      <td>2024-10-01</td>\n",
       "      <td>2015-10-28</td>\n",
       "      <td>2016-06-20</td>\n",
       "      <td>494</td>\n",
       "      <td>PURCHASE</td>\n",
       "      <td>9047.52</td>\n",
       "      <td>0</td>\n",
       "      <td>0</td>\n",
       "      <td>0</td>\n",
       "      <td>-60 days +00:45:34</td>\n",
       "    </tr>\n",
       "    <tr>\n",
       "      <th>1135</th>\n",
       "      <td>246251253</td>\n",
       "      <td>246251253</td>\n",
       "      <td>5000</td>\n",
       "      <td>2055.88</td>\n",
       "      <td>2016-03-14 05:33:34</td>\n",
       "      <td>279.82</td>\n",
       "      <td>Northtown Beauty</td>\n",
       "      <td>US</td>\n",
       "      <td>US</td>\n",
       "      <td>02</td>\n",
       "      <td>08</td>\n",
       "      <td>personal care</td>\n",
       "      <td>2032-01-01</td>\n",
       "      <td>2014-10-02</td>\n",
       "      <td>2016-02-11</td>\n",
       "      <td>455</td>\n",
       "      <td>455</td>\n",
       "      <td>6002</td>\n",
       "      <td>REVERSAL</td>\n",
       "      <td>2944.12</td>\n",
       "      <td>1</td>\n",
       "      <td>0</td>\n",
       "      <td>0</td>\n",
       "      <td>5000</td>\n",
       "      <td>2335.70</td>\n",
       "      <td>2016-03-14 05:35:50</td>\n",
       "      <td>US</td>\n",
       "      <td>US</td>\n",
       "      <td>02</td>\n",
       "      <td>08</td>\n",
       "      <td>personal care</td>\n",
       "      <td>2032-01-01</td>\n",
       "      <td>2014-10-02</td>\n",
       "      <td>2016-02-11</td>\n",
       "      <td>455</td>\n",
       "      <td>PURCHASE</td>\n",
       "      <td>2664.30</td>\n",
       "      <td>1</td>\n",
       "      <td>0</td>\n",
       "      <td>0</td>\n",
       "      <td>-1 days +23:57:44</td>\n",
       "    </tr>\n",
       "    <tr>\n",
       "      <th>1182</th>\n",
       "      <td>246251253</td>\n",
       "      <td>246251253</td>\n",
       "      <td>5000</td>\n",
       "      <td>1561.61</td>\n",
       "      <td>2016-05-11 10:44:29</td>\n",
       "      <td>57.20</td>\n",
       "      <td>Krispy Kreme #491287</td>\n",
       "      <td>US</td>\n",
       "      <td>US</td>\n",
       "      <td>05</td>\n",
       "      <td>08</td>\n",
       "      <td>fastfood</td>\n",
       "      <td>2030-12-01</td>\n",
       "      <td>2014-10-02</td>\n",
       "      <td>2016-04-22</td>\n",
       "      <td>455</td>\n",
       "      <td>455</td>\n",
       "      <td>6002</td>\n",
       "      <td>REVERSAL</td>\n",
       "      <td>3438.39</td>\n",
       "      <td>1</td>\n",
       "      <td>0</td>\n",
       "      <td>0</td>\n",
       "      <td>5000</td>\n",
       "      <td>1618.81</td>\n",
       "      <td>2016-05-11 10:45:45</td>\n",
       "      <td>US</td>\n",
       "      <td>US</td>\n",
       "      <td>05</td>\n",
       "      <td>08</td>\n",
       "      <td>fastfood</td>\n",
       "      <td>2030-12-01</td>\n",
       "      <td>2014-10-02</td>\n",
       "      <td>2016-04-22</td>\n",
       "      <td>455</td>\n",
       "      <td>PURCHASE</td>\n",
       "      <td>3381.19</td>\n",
       "      <td>1</td>\n",
       "      <td>0</td>\n",
       "      <td>0</td>\n",
       "      <td>-1 days +23:58:44</td>\n",
       "    </tr>\n",
       "    <tr>\n",
       "      <th>1183</th>\n",
       "      <td>246251253</td>\n",
       "      <td>246251253</td>\n",
       "      <td>5000</td>\n",
       "      <td>1561.61</td>\n",
       "      <td>2016-05-11 10:44:29</td>\n",
       "      <td>57.20</td>\n",
       "      <td>Krispy Kreme #491287</td>\n",
       "      <td>US</td>\n",
       "      <td>US</td>\n",
       "      <td>05</td>\n",
       "      <td>08</td>\n",
       "      <td>fastfood</td>\n",
       "      <td>2030-12-01</td>\n",
       "      <td>2014-10-02</td>\n",
       "      <td>2016-04-22</td>\n",
       "      <td>455</td>\n",
       "      <td>455</td>\n",
       "      <td>6002</td>\n",
       "      <td>REVERSAL</td>\n",
       "      <td>3438.39</td>\n",
       "      <td>1</td>\n",
       "      <td>0</td>\n",
       "      <td>0</td>\n",
       "      <td>5000</td>\n",
       "      <td>1561.61</td>\n",
       "      <td>2016-05-11 10:48:22</td>\n",
       "      <td>US</td>\n",
       "      <td>US</td>\n",
       "      <td>05</td>\n",
       "      <td>08</td>\n",
       "      <td>fastfood</td>\n",
       "      <td>2030-12-01</td>\n",
       "      <td>2014-10-02</td>\n",
       "      <td>2016-04-22</td>\n",
       "      <td>455</td>\n",
       "      <td>PURCHASE</td>\n",
       "      <td>3438.39</td>\n",
       "      <td>1</td>\n",
       "      <td>0</td>\n",
       "      <td>0</td>\n",
       "      <td>-1 days +23:56:07</td>\n",
       "    </tr>\n",
       "    <tr>\n",
       "      <th>1326</th>\n",
       "      <td>246251253</td>\n",
       "      <td>246251253</td>\n",
       "      <td>5000</td>\n",
       "      <td>2806.53</td>\n",
       "      <td>2016-12-13 03:22:32</td>\n",
       "      <td>315.48</td>\n",
       "      <td>staples.com</td>\n",
       "      <td>US</td>\n",
       "      <td>US</td>\n",
       "      <td>09</td>\n",
       "      <td>01</td>\n",
       "      <td>online_retail</td>\n",
       "      <td>2028-09-01</td>\n",
       "      <td>2014-10-02</td>\n",
       "      <td>2016-11-30</td>\n",
       "      <td>455</td>\n",
       "      <td>455</td>\n",
       "      <td>6002</td>\n",
       "      <td>REVERSAL</td>\n",
       "      <td>2193.47</td>\n",
       "      <td>0</td>\n",
       "      <td>0</td>\n",
       "      <td>0</td>\n",
       "      <td>5000</td>\n",
       "      <td>3122.01</td>\n",
       "      <td>2016-12-13 03:23:22</td>\n",
       "      <td>US</td>\n",
       "      <td>US</td>\n",
       "      <td>09</td>\n",
       "      <td>01</td>\n",
       "      <td>online_retail</td>\n",
       "      <td>2028-09-01</td>\n",
       "      <td>2014-10-02</td>\n",
       "      <td>2016-11-30</td>\n",
       "      <td>455</td>\n",
       "      <td>PURCHASE</td>\n",
       "      <td>1877.99</td>\n",
       "      <td>0</td>\n",
       "      <td>0</td>\n",
       "      <td>0</td>\n",
       "      <td>-1 days +23:59:10</td>\n",
       "    </tr>\n",
       "  </tbody>\n",
       "</table>\n",
       "</div>"
      ],
      "text/plain": [
       "      accountNumber  customerId  creditLimit_x  availableMoney_x  \\\n",
       "815       442799740   442799740          15000           3595.31   \n",
       "1135      246251253   246251253           5000           2055.88   \n",
       "1182      246251253   246251253           5000           1561.61   \n",
       "1183      246251253   246251253           5000           1561.61   \n",
       "1326      246251253   246251253           5000           2806.53   \n",
       "\n",
       "     transactionDateTime_x  transactionAmount          merchantName  \\\n",
       "815    2016-05-20 20:57:04             110.48                  Uber   \n",
       "1135   2016-03-14 05:33:34             279.82      Northtown Beauty   \n",
       "1182   2016-05-11 10:44:29              57.20  Krispy Kreme #491287   \n",
       "1183   2016-05-11 10:44:29              57.20  Krispy Kreme #491287   \n",
       "1326   2016-12-13 03:22:32             315.48           staples.com   \n",
       "\n",
       "     acqCountry_x merchantCountryCode_x posEntryMode_x posConditionCode_x  \\\n",
       "815            US                    US             05                 01   \n",
       "1135           US                    US             02                 08   \n",
       "1182           US                    US             05                 08   \n",
       "1183           US                    US             05                 08   \n",
       "1326           US                    US             09                 01   \n",
       "\n",
       "     merchantCategoryCode_x currentExpDate_x accountOpenDate_x  \\\n",
       "815               rideshare       2032-01-01        2015-10-28   \n",
       "1135          personal care       2032-01-01        2014-10-02   \n",
       "1182               fastfood       2030-12-01        2014-10-02   \n",
       "1183               fastfood       2030-12-01        2014-10-02   \n",
       "1326          online_retail       2028-09-01        2014-10-02   \n",
       "\n",
       "     dateOfLastAddressChange_x  cardCVV  enteredCVV_x  cardLast4Digits  \\\n",
       "815                 2016-05-19      494           494             3018   \n",
       "1135                2016-02-11      455           455             6002   \n",
       "1182                2016-04-22      455           455             6002   \n",
       "1183                2016-04-22      455           455             6002   \n",
       "1326                2016-11-30      455           455             6002   \n",
       "\n",
       "     transactionType_x  currentBalance_x  cardPresent_x  \\\n",
       "815           REVERSAL          11404.69              0   \n",
       "1135          REVERSAL           2944.12              1   \n",
       "1182          REVERSAL           3438.39              1   \n",
       "1183          REVERSAL           3438.39              1   \n",
       "1326          REVERSAL           2193.47              0   \n",
       "\n",
       "      expirationDateKeyInMatch_x  isFraud_x  creditLimit_y  availableMoney_y  \\\n",
       "815                            0          0          15000           5952.48   \n",
       "1135                           0          0           5000           2335.70   \n",
       "1182                           0          0           5000           1618.81   \n",
       "1183                           0          0           5000           1561.61   \n",
       "1326                           0          0           5000           3122.01   \n",
       "\n",
       "     transactionDateTime_y acqCountry_y merchantCountryCode_y posEntryMode_y  \\\n",
       "815    2016-07-19 20:11:30           US                    US             09   \n",
       "1135   2016-03-14 05:35:50           US                    US             02   \n",
       "1182   2016-05-11 10:45:45           US                    US             05   \n",
       "1183   2016-05-11 10:48:22           US                    US             05   \n",
       "1326   2016-12-13 03:23:22           US                    US             09   \n",
       "\n",
       "     posConditionCode_y merchantCategoryCode_y currentExpDate_y  \\\n",
       "815                  01              rideshare       2024-10-01   \n",
       "1135                 08          personal care       2032-01-01   \n",
       "1182                 08               fastfood       2030-12-01   \n",
       "1183                 08               fastfood       2030-12-01   \n",
       "1326                 01          online_retail       2028-09-01   \n",
       "\n",
       "     accountOpenDate_y dateOfLastAddressChange_y  enteredCVV_y  \\\n",
       "815         2015-10-28                2016-06-20           494   \n",
       "1135        2014-10-02                2016-02-11           455   \n",
       "1182        2014-10-02                2016-04-22           455   \n",
       "1183        2014-10-02                2016-04-22           455   \n",
       "1326        2014-10-02                2016-11-30           455   \n",
       "\n",
       "     transactionType_y  currentBalance_y  cardPresent_y  \\\n",
       "815           PURCHASE           9047.52              0   \n",
       "1135          PURCHASE           2664.30              1   \n",
       "1182          PURCHASE           3381.19              1   \n",
       "1183          PURCHASE           3438.39              1   \n",
       "1326          PURCHASE           1877.99              0   \n",
       "\n",
       "      expirationDateKeyInMatch_y  isFraud_y      reversal_time  \n",
       "815                            0          0 -60 days +00:45:34  \n",
       "1135                           0          0  -1 days +23:57:44  \n",
       "1182                           0          0  -1 days +23:58:44  \n",
       "1183                           0          0  -1 days +23:56:07  \n",
       "1326                           0          0  -1 days +23:59:10  "
      ]
     },
     "execution_count": 53,
     "metadata": {},
     "output_type": "execute_result"
    }
   ],
   "source": [
    "invalid_rev_transactions_df.head()"
   ]
  },
  {
   "cell_type": "code",
   "execution_count": 54,
   "id": "b91fd2ef",
   "metadata": {},
   "outputs": [
    {
     "data": {
      "text/plain": [
       "133"
      ]
     },
     "execution_count": 54,
     "metadata": {},
     "output_type": "execute_result"
    }
   ],
   "source": [
    "# these negative one could once reversal of monthy \n",
    "# subscription being mapped (same customerID, account Number, transcation amount) to other months subscription\n",
    "\n",
    "len(invalid_rev_transactions_df) "
   ]
  },
  {
   "cell_type": "code",
   "execution_count": 55,
   "id": "938d20dd",
   "metadata": {},
   "outputs": [
    {
     "data": {
      "text/plain": [
       "17993"
      ]
     },
     "execution_count": 55,
     "metadata": {},
     "output_type": "execute_result"
    }
   ],
   "source": [
    "len(rev_pur_df) - len(invalid_rev_transactions_df)"
   ]
  },
  {
   "cell_type": "code",
   "execution_count": 56,
   "id": "19d6d810",
   "metadata": {},
   "outputs": [
    {
     "data": {
      "text/plain": [
       "17921"
      ]
     },
     "execution_count": 56,
     "metadata": {},
     "output_type": "execute_result"
    }
   ],
   "source": [
    "# For calculating number of reversed transation (keeping in mind the reversal time to be > 0 seconds and < 30 days)\n",
    "\n",
    "rev_pur_time_df = rev_pur_df[(rev_pur_df['reversal_time'] > dt.timedelta(seconds = 0)) & (rev_pur_df['reversal_time'] < dt.timedelta(days = 30))]\n",
    "\n",
    "len(rev_pur_time_df)"
   ]
  },
  {
   "cell_type": "code",
   "execution_count": null,
   "id": "7824972e",
   "metadata": {},
   "outputs": [],
   "source": []
  },
  {
   "cell_type": "code",
   "execution_count": 57,
   "id": "5bee7855",
   "metadata": {},
   "outputs": [
    {
     "data": {
      "text/plain": [
       "2713100.3099999996"
      ]
     },
     "execution_count": 57,
     "metadata": {},
     "output_type": "execute_result"
    }
   ],
   "source": [
    "rev_pur_df['transactionAmount'].sum()"
   ]
  },
  {
   "cell_type": "code",
   "execution_count": 58,
   "id": "f9853299",
   "metadata": {},
   "outputs": [
    {
     "data": {
      "text/plain": [
       "108692.19000000041"
      ]
     },
     "execution_count": 58,
     "metadata": {},
     "output_type": "execute_result"
    }
   ],
   "source": [
    "reverse_df['transactionAmount'].sum() - rev_pur_df['transactionAmount'].sum()"
   ]
  },
  {
   "cell_type": "markdown",
   "id": "ecbaa08b",
   "metadata": {},
   "source": [
    "> 108692 amount is extra reversed (trace of this amount not found in purchase amount)"
   ]
  },
  {
   "cell_type": "code",
   "execution_count": 59,
   "id": "45c7a2a3",
   "metadata": {},
   "outputs": [
    {
     "data": {
      "text/html": [
       "<div>\n",
       "<style scoped>\n",
       "    .dataframe tbody tr th:only-of-type {\n",
       "        vertical-align: middle;\n",
       "    }\n",
       "\n",
       "    .dataframe tbody tr th {\n",
       "        vertical-align: top;\n",
       "    }\n",
       "\n",
       "    .dataframe thead th {\n",
       "        text-align: right;\n",
       "    }\n",
       "</style>\n",
       "<table border=\"1\" class=\"dataframe\">\n",
       "  <thead>\n",
       "    <tr style=\"text-align: right;\">\n",
       "      <th></th>\n",
       "      <th>accountNumber</th>\n",
       "      <th>customerId</th>\n",
       "      <th>creditLimit_x</th>\n",
       "      <th>availableMoney_x</th>\n",
       "      <th>transactionDateTime_x</th>\n",
       "      <th>transactionAmount</th>\n",
       "      <th>merchantName</th>\n",
       "      <th>acqCountry_x</th>\n",
       "      <th>merchantCountryCode_x</th>\n",
       "      <th>posEntryMode_x</th>\n",
       "      <th>posConditionCode_x</th>\n",
       "      <th>merchantCategoryCode_x</th>\n",
       "      <th>currentExpDate_x</th>\n",
       "      <th>accountOpenDate_x</th>\n",
       "      <th>dateOfLastAddressChange_x</th>\n",
       "      <th>cardCVV</th>\n",
       "      <th>enteredCVV_x</th>\n",
       "      <th>cardLast4Digits</th>\n",
       "      <th>transactionType_x</th>\n",
       "      <th>currentBalance_x</th>\n",
       "      <th>cardPresent_x</th>\n",
       "      <th>expirationDateKeyInMatch_x</th>\n",
       "      <th>isFraud_x</th>\n",
       "      <th>creditLimit_y</th>\n",
       "      <th>availableMoney_y</th>\n",
       "      <th>transactionDateTime_y</th>\n",
       "      <th>acqCountry_y</th>\n",
       "      <th>merchantCountryCode_y</th>\n",
       "      <th>posEntryMode_y</th>\n",
       "      <th>posConditionCode_y</th>\n",
       "      <th>merchantCategoryCode_y</th>\n",
       "      <th>currentExpDate_y</th>\n",
       "      <th>accountOpenDate_y</th>\n",
       "      <th>dateOfLastAddressChange_y</th>\n",
       "      <th>enteredCVV_y</th>\n",
       "      <th>transactionType_y</th>\n",
       "      <th>currentBalance_y</th>\n",
       "      <th>cardPresent_y</th>\n",
       "      <th>expirationDateKeyInMatch_y</th>\n",
       "      <th>isFraud_y</th>\n",
       "    </tr>\n",
       "  </thead>\n",
       "  <tbody>\n",
       "    <tr>\n",
       "      <th>0</th>\n",
       "      <td>410523603</td>\n",
       "      <td>410523603</td>\n",
       "      <td>5000</td>\n",
       "      <td>2325.63</td>\n",
       "      <td>2016-03-23 22:57:38</td>\n",
       "      <td>315.73</td>\n",
       "      <td>Next Day eCards</td>\n",
       "      <td>US</td>\n",
       "      <td>US</td>\n",
       "      <td>05</td>\n",
       "      <td>01</td>\n",
       "      <td>online_gifts</td>\n",
       "      <td>2029-12-01</td>\n",
       "      <td>2015-06-25</td>\n",
       "      <td>2016-03-02</td>\n",
       "      <td>136</td>\n",
       "      <td>136</td>\n",
       "      <td>2701</td>\n",
       "      <td>REVERSAL</td>\n",
       "      <td>2674.37</td>\n",
       "      <td>0</td>\n",
       "      <td>0</td>\n",
       "      <td>0</td>\n",
       "      <td>5000</td>\n",
       "      <td>2641.36</td>\n",
       "      <td>2016-03-23 22:55:47</td>\n",
       "      <td>US</td>\n",
       "      <td>US</td>\n",
       "      <td>05</td>\n",
       "      <td>01</td>\n",
       "      <td>online_gifts</td>\n",
       "      <td>2029-12-01</td>\n",
       "      <td>2015-06-25</td>\n",
       "      <td>2016-03-02</td>\n",
       "      <td>136</td>\n",
       "      <td></td>\n",
       "      <td>2358.64</td>\n",
       "      <td>0</td>\n",
       "      <td>0</td>\n",
       "      <td>0</td>\n",
       "    </tr>\n",
       "    <tr>\n",
       "      <th>1</th>\n",
       "      <td>318627230</td>\n",
       "      <td>318627230</td>\n",
       "      <td>1000</td>\n",
       "      <td>716.37</td>\n",
       "      <td>2016-12-20 06:14:01</td>\n",
       "      <td>260.56</td>\n",
       "      <td>Golds Gym #605427</td>\n",
       "      <td>US</td>\n",
       "      <td>US</td>\n",
       "      <td>09</td>\n",
       "      <td>08</td>\n",
       "      <td>health</td>\n",
       "      <td>2027-12-01</td>\n",
       "      <td>2013-06-23</td>\n",
       "      <td>2016-12-01</td>\n",
       "      <td>153</td>\n",
       "      <td>153</td>\n",
       "      <td>3938</td>\n",
       "      <td>REVERSAL</td>\n",
       "      <td>283.63</td>\n",
       "      <td>1</td>\n",
       "      <td>0</td>\n",
       "      <td>0</td>\n",
       "      <td>1000</td>\n",
       "      <td>204.72</td>\n",
       "      <td>2016-12-20 06:13:37</td>\n",
       "      <td>US</td>\n",
       "      <td>US</td>\n",
       "      <td>09</td>\n",
       "      <td>08</td>\n",
       "      <td>health</td>\n",
       "      <td>2027-12-01</td>\n",
       "      <td>2013-06-23</td>\n",
       "      <td>2016-12-01</td>\n",
       "      <td>153</td>\n",
       "      <td></td>\n",
       "      <td>795.28</td>\n",
       "      <td>1</td>\n",
       "      <td>0</td>\n",
       "      <td>0</td>\n",
       "    </tr>\n",
       "    <tr>\n",
       "      <th>2</th>\n",
       "      <td>340103388</td>\n",
       "      <td>340103388</td>\n",
       "      <td>20000</td>\n",
       "      <td>15285.85</td>\n",
       "      <td>2016-05-17 19:29:21</td>\n",
       "      <td>123.04</td>\n",
       "      <td>Dunkin' Donuts #963251</td>\n",
       "      <td>US</td>\n",
       "      <td>US</td>\n",
       "      <td>09</td>\n",
       "      <td>01</td>\n",
       "      <td>fastfood</td>\n",
       "      <td>2032-12-01</td>\n",
       "      <td>2015-01-08</td>\n",
       "      <td>2016-03-18</td>\n",
       "      <td>791</td>\n",
       "      <td>791</td>\n",
       "      <td>3884</td>\n",
       "      <td>REVERSAL</td>\n",
       "      <td>4714.15</td>\n",
       "      <td>1</td>\n",
       "      <td>0</td>\n",
       "      <td>0</td>\n",
       "      <td>20000</td>\n",
       "      <td>3457.51</td>\n",
       "      <td>2016-04-18 22:50:47</td>\n",
       "      <td>US</td>\n",
       "      <td>US</td>\n",
       "      <td>09</td>\n",
       "      <td>01</td>\n",
       "      <td>fastfood</td>\n",
       "      <td>2032-12-01</td>\n",
       "      <td>2015-01-08</td>\n",
       "      <td>2016-03-18</td>\n",
       "      <td>791</td>\n",
       "      <td></td>\n",
       "      <td>16542.49</td>\n",
       "      <td>1</td>\n",
       "      <td>0</td>\n",
       "      <td>0</td>\n",
       "    </tr>\n",
       "    <tr>\n",
       "      <th>3</th>\n",
       "      <td>132629755</td>\n",
       "      <td>132629755</td>\n",
       "      <td>5000</td>\n",
       "      <td>1512.22</td>\n",
       "      <td>2016-11-12 02:42:40</td>\n",
       "      <td>55.60</td>\n",
       "      <td>cheapfast.com</td>\n",
       "      <td>US</td>\n",
       "      <td>US</td>\n",
       "      <td>05</td>\n",
       "      <td>01</td>\n",
       "      <td>online_retail</td>\n",
       "      <td>2029-05-01</td>\n",
       "      <td>2015-12-17</td>\n",
       "      <td>2016-08-27</td>\n",
       "      <td>337</td>\n",
       "      <td>337</td>\n",
       "      <td>8208</td>\n",
       "      <td>REVERSAL</td>\n",
       "      <td>3487.78</td>\n",
       "      <td>0</td>\n",
       "      <td>0</td>\n",
       "      <td>0</td>\n",
       "      <td>5000</td>\n",
       "      <td>575.89</td>\n",
       "      <td>2016-10-21 11:02:42</td>\n",
       "      <td>US</td>\n",
       "      <td>US</td>\n",
       "      <td>05</td>\n",
       "      <td>01</td>\n",
       "      <td>online_retail</td>\n",
       "      <td>2029-05-01</td>\n",
       "      <td>2015-12-17</td>\n",
       "      <td>2016-08-27</td>\n",
       "      <td>337</td>\n",
       "      <td></td>\n",
       "      <td>4424.11</td>\n",
       "      <td>0</td>\n",
       "      <td>0</td>\n",
       "      <td>0</td>\n",
       "    </tr>\n",
       "    <tr>\n",
       "      <th>4</th>\n",
       "      <td>380680241</td>\n",
       "      <td>380680241</td>\n",
       "      <td>5000</td>\n",
       "      <td>3248.34</td>\n",
       "      <td>2016-09-10 12:12:06</td>\n",
       "      <td>236.90</td>\n",
       "      <td>Next Day eCards</td>\n",
       "      <td>US</td>\n",
       "      <td>US</td>\n",
       "      <td>09</td>\n",
       "      <td>01</td>\n",
       "      <td>online_gifts</td>\n",
       "      <td>2024-05-01</td>\n",
       "      <td>2014-06-21</td>\n",
       "      <td>2016-09-01</td>\n",
       "      <td>869</td>\n",
       "      <td>869</td>\n",
       "      <td>593</td>\n",
       "      <td>REVERSAL</td>\n",
       "      <td>1751.66</td>\n",
       "      <td>0</td>\n",
       "      <td>0</td>\n",
       "      <td>0</td>\n",
       "      <td>5000</td>\n",
       "      <td>2883.96</td>\n",
       "      <td>2016-08-17 10:05:31</td>\n",
       "      <td>US</td>\n",
       "      <td>US</td>\n",
       "      <td>09</td>\n",
       "      <td>01</td>\n",
       "      <td>online_gifts</td>\n",
       "      <td>2024-05-01</td>\n",
       "      <td>2014-06-21</td>\n",
       "      <td>2016-08-15</td>\n",
       "      <td>869</td>\n",
       "      <td></td>\n",
       "      <td>2116.04</td>\n",
       "      <td>0</td>\n",
       "      <td>0</td>\n",
       "      <td>0</td>\n",
       "    </tr>\n",
       "  </tbody>\n",
       "</table>\n",
       "</div>"
      ],
      "text/plain": [
       "   accountNumber  customerId  creditLimit_x  availableMoney_x  \\\n",
       "0      410523603   410523603           5000           2325.63   \n",
       "1      318627230   318627230           1000            716.37   \n",
       "2      340103388   340103388          20000          15285.85   \n",
       "3      132629755   132629755           5000           1512.22   \n",
       "4      380680241   380680241           5000           3248.34   \n",
       "\n",
       "  transactionDateTime_x  transactionAmount            merchantName  \\\n",
       "0   2016-03-23 22:57:38             315.73         Next Day eCards   \n",
       "1   2016-12-20 06:14:01             260.56       Golds Gym #605427   \n",
       "2   2016-05-17 19:29:21             123.04  Dunkin' Donuts #963251   \n",
       "3   2016-11-12 02:42:40              55.60           cheapfast.com   \n",
       "4   2016-09-10 12:12:06             236.90         Next Day eCards   \n",
       "\n",
       "  acqCountry_x merchantCountryCode_x posEntryMode_x posConditionCode_x  \\\n",
       "0           US                    US             05                 01   \n",
       "1           US                    US             09                 08   \n",
       "2           US                    US             09                 01   \n",
       "3           US                    US             05                 01   \n",
       "4           US                    US             09                 01   \n",
       "\n",
       "  merchantCategoryCode_x currentExpDate_x accountOpenDate_x  \\\n",
       "0           online_gifts       2029-12-01        2015-06-25   \n",
       "1                 health       2027-12-01        2013-06-23   \n",
       "2               fastfood       2032-12-01        2015-01-08   \n",
       "3          online_retail       2029-05-01        2015-12-17   \n",
       "4           online_gifts       2024-05-01        2014-06-21   \n",
       "\n",
       "  dateOfLastAddressChange_x  cardCVV  enteredCVV_x  cardLast4Digits  \\\n",
       "0                2016-03-02      136           136             2701   \n",
       "1                2016-12-01      153           153             3938   \n",
       "2                2016-03-18      791           791             3884   \n",
       "3                2016-08-27      337           337             8208   \n",
       "4                2016-09-01      869           869              593   \n",
       "\n",
       "  transactionType_x  currentBalance_x  cardPresent_x  \\\n",
       "0          REVERSAL           2674.37              0   \n",
       "1          REVERSAL            283.63              1   \n",
       "2          REVERSAL           4714.15              1   \n",
       "3          REVERSAL           3487.78              0   \n",
       "4          REVERSAL           1751.66              0   \n",
       "\n",
       "   expirationDateKeyInMatch_x  isFraud_x  creditLimit_y  availableMoney_y  \\\n",
       "0                           0          0           5000           2641.36   \n",
       "1                           0          0           1000            204.72   \n",
       "2                           0          0          20000           3457.51   \n",
       "3                           0          0           5000            575.89   \n",
       "4                           0          0           5000           2883.96   \n",
       "\n",
       "  transactionDateTime_y acqCountry_y merchantCountryCode_y posEntryMode_y  \\\n",
       "0   2016-03-23 22:55:47           US                    US             05   \n",
       "1   2016-12-20 06:13:37           US                    US             09   \n",
       "2   2016-04-18 22:50:47           US                    US             09   \n",
       "3   2016-10-21 11:02:42           US                    US             05   \n",
       "4   2016-08-17 10:05:31           US                    US             09   \n",
       "\n",
       "  posConditionCode_y merchantCategoryCode_y currentExpDate_y  \\\n",
       "0                 01           online_gifts       2029-12-01   \n",
       "1                 08                 health       2027-12-01   \n",
       "2                 01               fastfood       2032-12-01   \n",
       "3                 01          online_retail       2029-05-01   \n",
       "4                 01           online_gifts       2024-05-01   \n",
       "\n",
       "  accountOpenDate_y dateOfLastAddressChange_y  enteredCVV_y transactionType_y  \\\n",
       "0        2015-06-25                2016-03-02           136                     \n",
       "1        2013-06-23                2016-12-01           153                     \n",
       "2        2015-01-08                2016-03-18           791                     \n",
       "3        2015-12-17                2016-08-27           337                     \n",
       "4        2014-06-21                2016-08-15           869                     \n",
       "\n",
       "   currentBalance_y  cardPresent_y  expirationDateKeyInMatch_y  isFraud_y  \n",
       "0           2358.64              0                           0          0  \n",
       "1            795.28              1                           0          0  \n",
       "2          16542.49              1                           0          0  \n",
       "3           4424.11              0                           0          0  \n",
       "4           2116.04              0                           0          0  "
      ]
     },
     "execution_count": 59,
     "metadata": {},
     "output_type": "execute_result"
    }
   ],
   "source": [
    "rev_mis_df = pd.merge(reverse_df,missing_tran_ty_df,on=['accountNumber','customerId','transactionAmount','merchantName','cardCVV','cardLast4Digits'],how='inner')\n",
    "rev_mis_df.head()"
   ]
  },
  {
   "cell_type": "code",
   "execution_count": 60,
   "id": "0330615e",
   "metadata": {},
   "outputs": [
    {
     "data": {
      "text/plain": [
       "2823.9"
      ]
     },
     "execution_count": 60,
     "metadata": {},
     "output_type": "execute_result"
    }
   ],
   "source": [
    "rev_mis_df['transactionAmount'].sum()"
   ]
  },
  {
   "cell_type": "code",
   "execution_count": 61,
   "id": "8f569a1e",
   "metadata": {},
   "outputs": [
    {
     "data": {
      "text/plain": [
       "(312, 313)"
      ]
     },
     "execution_count": 61,
     "metadata": {},
     "output_type": "execute_result"
    }
   ],
   "source": [
    "rev_pur_df['isFraud_x'].sum(),rev_pur_df['isFraud_y'].sum()"
   ]
  },
  {
   "cell_type": "markdown",
   "id": "34042de8",
   "metadata": {},
   "source": [
    "> With this mapping there are 312 fraud transactions in reverse DF and 313 in purchase DF"
   ]
  },
  {
   "cell_type": "markdown",
   "id": "fd898f7f",
   "metadata": {},
   "source": [
    "## Multi swipe transactions"
   ]
  },
  {
   "cell_type": "code",
   "execution_count": 62,
   "id": "ed8adc79",
   "metadata": {},
   "outputs": [],
   "source": [
    "## Doinng an inner join of Purchase type df with itself\n",
    "\n",
    "multi_swipe_df = pd.merge(purchase_df,purchase_df,on=['accountNumber','customerId','transactionAmount','merchantName','cardCVV','cardLast4Digits'],how='inner')"
   ]
  },
  {
   "cell_type": "code",
   "execution_count": 63,
   "id": "50e6b89d",
   "metadata": {},
   "outputs": [],
   "source": [
    "multi_swipe_df['time_lag'] = multi_swipe_df['transactionDateTime_x'] - multi_swipe_df['transactionDateTime_y']"
   ]
  },
  {
   "cell_type": "code",
   "execution_count": 64,
   "id": "934027f2",
   "metadata": {},
   "outputs": [
    {
     "data": {
      "text/plain": [
       "1308669"
      ]
     },
     "execution_count": 64,
     "metadata": {},
     "output_type": "execute_result"
    }
   ],
   "source": [
    "len(multi_swipe_df)"
   ]
  },
  {
   "cell_type": "code",
   "execution_count": 65,
   "id": "50534f66",
   "metadata": {},
   "outputs": [
    {
     "data": {
      "text/plain": [
       "281738"
      ]
     },
     "execution_count": 65,
     "metadata": {},
     "output_type": "execute_result"
    }
   ],
   "source": [
    "# negative time lag\n",
    "\n",
    "len(multi_swipe_df[multi_swipe_df['time_lag'] < dt.timedelta(seconds = 0)])"
   ]
  },
  {
   "cell_type": "code",
   "execution_count": 66,
   "id": "40b5402a",
   "metadata": {},
   "outputs": [
    {
     "data": {
      "text/plain": [
       "745193"
      ]
     },
     "execution_count": 66,
     "metadata": {},
     "output_type": "execute_result"
    }
   ],
   "source": [
    "# transaction which got joined to iteself \n",
    "\n",
    "same_transaction_df = multi_swipe_df[multi_swipe_df['time_lag'] == dt.timedelta(seconds = 0)]\n",
    "len(same_transaction_df)"
   ]
  },
  {
   "cell_type": "code",
   "execution_count": 67,
   "id": "cc329fa5",
   "metadata": {},
   "outputs": [
    {
     "data": {
      "text/plain": [
       "281738"
      ]
     },
     "execution_count": 67,
     "metadata": {},
     "output_type": "execute_result"
    }
   ],
   "source": [
    "# positive_time multi_swipe df\n",
    "\n",
    "multi_swipe_pos_time_df = multi_swipe_df[multi_swipe_df['time_lag'] > dt.timedelta(seconds = 0)]\n",
    "\n",
    "len(multi_swipe_pos_time_df)"
   ]
  },
  {
   "cell_type": "code",
   "execution_count": 68,
   "id": "b6f014e1",
   "metadata": {},
   "outputs": [
    {
     "data": {
      "text/plain": [
       "(Timedelta('0 days 00:00:01'), Timedelta('364 days 04:34:56'))"
      ]
     },
     "execution_count": 68,
     "metadata": {},
     "output_type": "execute_result"
    }
   ],
   "source": [
    "multi_swipe_pos_time_df['time_lag'].min(),multi_swipe_pos_time_df['time_lag'].max()"
   ]
  },
  {
   "cell_type": "markdown",
   "id": "cb5fce02",
   "metadata": {},
   "source": [
    "> 364 days for multi swipe time seems too long\n",
    "\n",
    "> Capping the multi swipe definition to - transaction from same merchant Name, to the same account Number and customer Id and card within less than ONE HOUR"
   ]
  },
  {
   "cell_type": "code",
   "execution_count": 69,
   "id": "e06cb058",
   "metadata": {},
   "outputs": [
    {
     "data": {
      "text/plain": [
       "8135"
      ]
     },
     "execution_count": 69,
     "metadata": {},
     "output_type": "execute_result"
    }
   ],
   "source": [
    "multi_swipe_pos_time_df = multi_swipe_pos_time_df[multi_swipe_pos_time_df['time_lag'] < dt.timedelta(hours = 1)]\n",
    "\n",
    "len(multi_swipe_pos_time_df)"
   ]
  },
  {
   "cell_type": "code",
   "execution_count": 70,
   "id": "9485aedb",
   "metadata": {},
   "outputs": [
    {
     "data": {
      "text/plain": [
       "(Timedelta('0 days 00:00:01'), Timedelta('0 days 00:09:10'))"
      ]
     },
     "execution_count": 70,
     "metadata": {},
     "output_type": "execute_result"
    }
   ],
   "source": [
    "multi_swipe_pos_time_df['time_lag'].min(),multi_swipe_pos_time_df['time_lag'].max()"
   ]
  },
  {
   "cell_type": "code",
   "execution_count": 71,
   "id": "521edd0f",
   "metadata": {},
   "outputs": [
    {
     "data": {
      "text/plain": [
       "1206611.33"
      ]
     },
     "execution_count": 71,
     "metadata": {},
     "output_type": "execute_result"
    }
   ],
   "source": [
    "multi_swipe_pos_time_df['transactionAmount'].sum()"
   ]
  },
  {
   "cell_type": "code",
   "execution_count": 72,
   "id": "d4787cea",
   "metadata": {},
   "outputs": [
    {
     "data": {
      "text/plain": [
       "(139, 139)"
      ]
     },
     "execution_count": 72,
     "metadata": {},
     "output_type": "execute_result"
    }
   ],
   "source": [
    "multi_swipe_pos_time_df['isFraud_x'].sum(),multi_swipe_pos_time_df['isFraud_y'].sum()"
   ]
  },
  {
   "cell_type": "markdown",
   "id": "08604b2b",
   "metadata": {},
   "source": [
    "> There are 139 fraud transactions that happen with multi swipe case"
   ]
  },
  {
   "cell_type": "code",
   "execution_count": null,
   "id": "c6c5477d",
   "metadata": {},
   "outputs": [],
   "source": []
  }
 ],
 "metadata": {
  "kernelspec": {
   "display_name": "Python 3 (ipykernel)",
   "language": "python",
   "name": "python3"
  },
  "language_info": {
   "codemirror_mode": {
    "name": "ipython",
    "version": 3
   },
   "file_extension": ".py",
   "mimetype": "text/x-python",
   "name": "python",
   "nbconvert_exporter": "python",
   "pygments_lexer": "ipython3",
   "version": "3.10.4"
  }
 },
 "nbformat": 4,
 "nbformat_minor": 5
}
