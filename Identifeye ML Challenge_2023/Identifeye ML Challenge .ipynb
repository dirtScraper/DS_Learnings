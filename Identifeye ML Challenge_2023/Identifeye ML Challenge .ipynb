{
 "cells": [
  {
   "cell_type": "markdown",
   "metadata": {},
   "source": [
    "# Identifeye ML Engineering Challenge\n",
    "\n",
    "Thank you for spending time on this take-home! We are delighted that you are considering a machine learning role at Identifeye Health. In this exam, you will solve a problem with immediate relevance to us: developing a model for predicting the quality of captured fundus images\n",
    "\n",
    "## Context:\n",
    "\n",
    "Doctors rely heavily on good quality images to confidently diagnose diseases and conditions. Thus, it is important to evaluate the quality of a captured image, namely checking that it is artifact free, has the right color balance and the required anatomical features visible, and so on. When an image quality is evaluated to be insufficient, the patient will recapture it to increase the chances of having an image that the doctor is able to interpret reliably. This is one challenge to which we apply machine learning!\n",
    "\n",
    "Fundus imaging is a well-established retinal imaging technique. Diagnosis is done through the inspection of the optic disc, the macula, and blood vessels. In a good quality image, all these main retinal elements need to be clearly visible, depending on where the image is centered. Additionally, other quality parameters determine the overall usability of the image for interpretation such as illumination uniformity, blur, color balance, contrast, field definition and the presence of artifacts. Below, we show sample bad quality images with their labels in the title, as well as a set of good quality images.\n",
    "\n",
    "\n",
    "<center> <h3>Bad Quality Images</h3> </center>\n",
    "\n",
    " Dust | Eye Blink | Artifact\n",
    " :- | :- | :- \n",
    " ![alt](Data/examples/dust.png) | ![alt](Data/examples/eye_blink.png) | ![alt](Data/examples/artifact3.jpg)\n",
    "\n",
    "Overexposed | Underexposed |  Uneven Illumination\n",
    ":- | :- | :- \n",
    "![alt](Data/examples/overexposed.png) | ![alt](Data/examples/underexposed.png) | ![alt](Data/examples/unevenillum.png)\n",
    "\n",
    "\n",
    "\n",
    "<center> <h3>Good Quality Images</h3> </center>\n",
    "\n",
    "\n",
    "Right Eye | Left Eye | Left Eye  \n",
    ":- | :- | :- \n",
    "![alt](Data/examples/8664_right.png) | ![alt](Data/examples/9288_left.png) | ![alt](Data/examples/978_left.png) \n",
    "\n",
    "Right Eye | Right Eye | Left Eye \n",
    ":- | :- | :- \n",
    "![alt](Data/examples/1034_right.png) | ![alt](Data/examples/10457_right.png) | ![alt](Data/examples/11618_left.png) \n",
    "\n",
    "\n",
    "\n",
    "\n",
    "## Challenge\n",
    "\n",
    "**Based on this use case, your assignment is to build a model to predict the quality label of an image.** You have been given images of good (label 0) and bad quality (label 1). We have structured the assignment so that you work with incremental components of the problem in a way that gets you to a more complete understanding. Please make sure to read the directions in each steps!\n",
    "\n",
    "As you go through this task, it is suggested that you prioritize **exploratory data analysis and principled model selection**. You are also encouraged to consider alternatives to methods you may try and suggest them as future work to explore.\n",
    "\n",
    "## Ground Rules/Expectations\n",
    "\n",
    "* You **are not** expected, within the limited time frame, to solve this problem entirely and invent a new way of analyzing image quality. We understand that you have a busy life, and have thus capped the amount of time you can spend on this problem to 3 hours. So, don't prioritize just getting the best performing model for each step!\n",
    "* You **are** expected to communicate your overarching approach to the problem and the components we have laid out, with clear articulation of answers and presentation of supporting data (tables, plots, etc). So, do walk us through and explain how you used the available data to draw appropriate conclusions!\n",
    "* You are welcome to use any open-source libraries that you would like. \n",
    "\n",
    "\n",
    "## Data\n",
    "\n",
    "This folder consists of two components:\n",
    "\n",
    "1. 1300 .pngs in the \"fundus\" folder consisting of fundus images of varying image quality\n",
    "2. Two csv files containing the image name and quality label\n",
    "    - Simple model subset\n",
    "    \n",
    "        - This file contains 300 image names and their quality labels. You will be using this subset in the first section of the assignment. Quality labels are good(0) and bad (1). The accuracy of the labels in this subset is confirmed by medically trained professionals. \n",
    "        \n",
    "    - CNN subset\n",
    "    \n",
    "        - This file contains 1000 image names and their quality labels. Note that CNN subset does not contain any images that were listed in the simple model subset. Quality labels are good(0) and bad (1). \n",
    "\n",
    "Use this data to work through this assignment.\n",
    "\n",
    "## Rubric\n",
    "\n",
    "In evaluating this assignment, we will consider the following skills:\n",
    "1. demonstration of applied ML process\n",
    "2. coding style and conventions\n",
    "3. ability to thoughtfully communicate rationale, methods, and next steps\n",
    "\n",
    "Best of luck!"
   ]
  },
  {
   "cell_type": "markdown",
   "metadata": {},
   "source": [
    "# Step 0: Exploratory Data Analysis\n",
    "\n",
    "Explore the data and share your insights!"
   ]
  },
  {
   "cell_type": "code",
   "execution_count": null,
   "metadata": {},
   "outputs": [],
   "source": [
    "import numpy as np\n",
    "import pandas as pd\n",
    "import matplotlib.pyplot as plt\n",
    "import pathlib\n",
    "import cv2"
   ]
  },
  {
   "cell_type": "markdown",
   "metadata": {},
   "source": [
    "### Define the paths for the dataset "
   ]
  },
  {
   "cell_type": "code",
   "execution_count": null,
   "metadata": {},
   "outputs": [],
   "source": [
    "data_path = pathlib.Path(\"Data\") \n",
    "image_path = data_path /  'fundus_images'\n",
    "simple_model_subset_path = data_path/ 'simple_model_subset.csv'\n",
    "cnn_subset_path = data_path/ 'cnn_subset.csv'\n"
   ]
  },
  {
   "cell_type": "markdown",
   "metadata": {},
   "source": [
    "### Load the label files"
   ]
  },
  {
   "cell_type": "code",
   "execution_count": null,
   "metadata": {},
   "outputs": [],
   "source": [
    "simple_model_subset = pd.read_csv(simple_model_subset_path, index_col=0)\n",
    "\n",
    "cnn_subset = pd.read_csv(cnn_subset_path, index_col=0)\n"
   ]
  },
  {
   "cell_type": "code",
   "execution_count": null,
   "metadata": {
    "scrolled": false
   },
   "outputs": [],
   "source": [
    "print(simple_model_subset)\n",
    "print(cnn_subset)"
   ]
  },
  {
   "cell_type": "markdown",
   "metadata": {},
   "source": [
    "### Define a function for loading images"
   ]
  },
  {
   "cell_type": "code",
   "execution_count": null,
   "metadata": {},
   "outputs": [],
   "source": []
  },
  {
   "cell_type": "markdown",
   "metadata": {},
   "source": [
    "### Define a function for plotting sample images with their labels "
   ]
  },
  {
   "cell_type": "code",
   "execution_count": null,
   "metadata": {},
   "outputs": [],
   "source": []
  },
  {
   "cell_type": "markdown",
   "metadata": {},
   "source": [
    "### Plot and observe the differences between the bad and good images on a data subset "
   ]
  },
  {
   "cell_type": "code",
   "execution_count": null,
   "metadata": {},
   "outputs": [],
   "source": []
  },
  {
   "cell_type": "markdown",
   "metadata": {},
   "source": [
    "### Explore the Data "
   ]
  },
  {
   "cell_type": "code",
   "execution_count": null,
   "metadata": {},
   "outputs": [],
   "source": []
  },
  {
   "cell_type": "markdown",
   "metadata": {},
   "source": [
    "# Step 1: Simple Model "
   ]
  },
  {
   "cell_type": "markdown",
   "metadata": {},
   "source": [
    "Now that we gained insights about the dataset, we can start building models for predicting image quality. In this section, build a model for classifying the images into good and bad classes only using the small data subset. This subset has 300 images from good (label 0) and bad (label 1) classes. Given the size of the dataset, we do not expect you to train a neural network in this section. Feel free to use any other model you like. "
   ]
  },
  {
   "cell_type": "code",
   "execution_count": null,
   "metadata": {},
   "outputs": [],
   "source": []
  },
  {
   "cell_type": "markdown",
   "metadata": {},
   "source": [
    "### Q: Define a model for training "
   ]
  },
  {
   "cell_type": "markdown",
   "metadata": {},
   "source": [
    "Tell us why you picked this model. What are the advantages/disadvantages?"
   ]
  },
  {
   "cell_type": "markdown",
   "metadata": {},
   "source": [
    "### Your Answer:"
   ]
  },
  {
   "cell_type": "code",
   "execution_count": null,
   "metadata": {},
   "outputs": [],
   "source": []
  },
  {
   "cell_type": "markdown",
   "metadata": {},
   "source": [
    "### Q: Metrics\n",
    "\n",
    "- Explain what metrics you will use for evaluating model performance. \n",
    "- If the task was multi level classification (good, accept, bad), what metrics would you be looking at?\n",
    "- In the case where data is not evenly distributed accross classes, how would you modify the mentioned metrics or add other metrics to best present your model performance?\n",
    "\n",
    "### Your Answer: "
   ]
  },
  {
   "cell_type": "code",
   "execution_count": null,
   "metadata": {},
   "outputs": [],
   "source": []
  },
  {
   "cell_type": "code",
   "execution_count": null,
   "metadata": {},
   "outputs": [],
   "source": []
  },
  {
   "cell_type": "code",
   "execution_count": null,
   "metadata": {},
   "outputs": [],
   "source": []
  },
  {
   "cell_type": "markdown",
   "metadata": {},
   "source": [
    "### Q: Train & Test\n",
    "\n",
    "Train/test the model of your choice and present the results. \n",
    "\n",
    "### Your Answer:"
   ]
  },
  {
   "cell_type": "code",
   "execution_count": null,
   "metadata": {},
   "outputs": [],
   "source": []
  },
  {
   "cell_type": "code",
   "execution_count": null,
   "metadata": {},
   "outputs": [],
   "source": []
  },
  {
   "cell_type": "markdown",
   "metadata": {},
   "source": [
    "### Q: Plotting Predictions\n",
    "\n",
    "Part of making a good model is visualizing the results. Update the image plotting function to inspect where the model is working and where it is not. \n",
    "\n",
    "### Your Answer:"
   ]
  },
  {
   "cell_type": "code",
   "execution_count": null,
   "metadata": {},
   "outputs": [],
   "source": []
  },
  {
   "cell_type": "code",
   "execution_count": null,
   "metadata": {},
   "outputs": [],
   "source": []
  },
  {
   "cell_type": "markdown",
   "metadata": {},
   "source": [
    "### Q: Improvements \n",
    "\n",
    "Describe what steps, if any, should be taken to make the model perform better.\n",
    "\n",
    "### Your Answer:"
   ]
  },
  {
   "cell_type": "code",
   "execution_count": null,
   "metadata": {},
   "outputs": [],
   "source": []
  },
  {
   "cell_type": "code",
   "execution_count": null,
   "metadata": {},
   "outputs": [],
   "source": []
  },
  {
   "cell_type": "markdown",
   "metadata": {},
   "source": [
    "# Step 2: CNN Model"
   ]
  },
  {
   "cell_type": "markdown",
   "metadata": {},
   "source": [
    "In this section, we will train a CNN model to classify the images into good and bad classes using the larger data subset. This dataset has 1000 images good (label 0) and bad (label 1) classes. Feel free to use any model including \n",
    "pre-trained models. "
   ]
  },
  {
   "cell_type": "code",
   "execution_count": null,
   "metadata": {},
   "outputs": [],
   "source": []
  },
  {
   "cell_type": "code",
   "execution_count": null,
   "metadata": {},
   "outputs": [],
   "source": []
  },
  {
   "cell_type": "markdown",
   "metadata": {},
   "source": [
    "## Q: Loss function\n",
    "\n",
    "Your model predicts the quality of an image. At this step we have two classes: good and bad. Tell us which loss function you will be using & why?\n",
    "\n",
    "### Your Answer:\n"
   ]
  },
  {
   "cell_type": "code",
   "execution_count": null,
   "metadata": {},
   "outputs": [],
   "source": []
  },
  {
   "cell_type": "code",
   "execution_count": null,
   "metadata": {},
   "outputs": [],
   "source": []
  },
  {
   "cell_type": "code",
   "execution_count": null,
   "metadata": {},
   "outputs": [],
   "source": []
  },
  {
   "cell_type": "markdown",
   "metadata": {},
   "source": [
    "## Q: Train the model\n",
    "\n",
    "### Your Answer:"
   ]
  },
  {
   "cell_type": "code",
   "execution_count": null,
   "metadata": {},
   "outputs": [],
   "source": []
  },
  {
   "cell_type": "code",
   "execution_count": null,
   "metadata": {},
   "outputs": [],
   "source": []
  },
  {
   "cell_type": "markdown",
   "metadata": {},
   "source": [
    "## Q: Training Metrics\n",
    "\n",
    "Plot the loss and any other metric of interest on the training and validation data. What observations or comments can you making regarding the training job?\n",
    "\n",
    "### Your Answer:"
   ]
  },
  {
   "cell_type": "code",
   "execution_count": null,
   "metadata": {},
   "outputs": [],
   "source": []
  },
  {
   "cell_type": "code",
   "execution_count": null,
   "metadata": {},
   "outputs": [],
   "source": []
  },
  {
   "cell_type": "markdown",
   "metadata": {},
   "source": [
    "## Q: Plotting Predictions\n",
    "Plot some of model predictions with true labels. Share your insights\n",
    "### Your Answer:"
   ]
  },
  {
   "cell_type": "code",
   "execution_count": null,
   "metadata": {},
   "outputs": [],
   "source": []
  },
  {
   "cell_type": "code",
   "execution_count": null,
   "metadata": {},
   "outputs": [],
   "source": []
  },
  {
   "cell_type": "markdown",
   "metadata": {},
   "source": [
    "## Q: Improvements\n",
    "Describe what steps, if any, should be taken to make the model perform better. If you have time, try to sort any issues that you've identified and train a new model. Feel free to write your own functions in the notebook to inspect / correct the training data, if necessary. \n",
    "- Is your model making any obvious errors? \n",
    "- Compare the results of the CNN model with the simple model you trained earlier. Comment on the outcome of this comparison.\n",
    "\n",
    "### Your Answer:"
   ]
  },
  {
   "cell_type": "code",
   "execution_count": null,
   "metadata": {},
   "outputs": [],
   "source": []
  },
  {
   "cell_type": "code",
   "execution_count": null,
   "metadata": {},
   "outputs": [],
   "source": []
  },
  {
   "cell_type": "markdown",
   "metadata": {},
   "source": [
    "# Step 3: Multi-level Classification"
   ]
  },
  {
   "cell_type": "markdown",
   "metadata": {},
   "source": [
    "In this stage, consider building a model to predict the image quality with multiple class labels: good, accept and bad. You are not expected to provide code or achieve perfection! Rather, we would like to at least see in writing what next steps you think are useful and why. Specifically, try to address:\n",
    "- What methods you would implement from a model and/or data preprocessing standpoint\n",
    "- What challenges you foresee in implementing your selected model and/or data preprocessing approach\n",
    "- How you would evaluate a model that predicts these 3-class labels against the previous models?"
   ]
  },
  {
   "cell_type": "code",
   "execution_count": null,
   "metadata": {},
   "outputs": [],
   "source": []
  },
  {
   "cell_type": "code",
   "execution_count": null,
   "metadata": {},
   "outputs": [],
   "source": []
  },
  {
   "cell_type": "code",
   "execution_count": null,
   "metadata": {},
   "outputs": [],
   "source": []
  },
  {
   "cell_type": "code",
   "execution_count": null,
   "metadata": {},
   "outputs": [],
   "source": []
  },
  {
   "cell_type": "code",
   "execution_count": null,
   "metadata": {},
   "outputs": [],
   "source": []
  },
  {
   "cell_type": "code",
   "execution_count": null,
   "metadata": {},
   "outputs": [],
   "source": []
  },
  {
   "cell_type": "code",
   "execution_count": null,
   "metadata": {},
   "outputs": [],
   "source": []
  },
  {
   "cell_type": "code",
   "execution_count": null,
   "metadata": {},
   "outputs": [],
   "source": []
  },
  {
   "cell_type": "code",
   "execution_count": null,
   "metadata": {},
   "outputs": [],
   "source": []
  }
 ],
 "metadata": {
  "kernelspec": {
   "display_name": "Python 3",
   "language": "python",
   "name": "python3"
  },
  "language_info": {
   "codemirror_mode": {
    "name": "ipython",
    "version": 3
   },
   "file_extension": ".py",
   "mimetype": "text/x-python",
   "name": "python",
   "nbconvert_exporter": "python",
   "pygments_lexer": "ipython3",
   "version": "3.6.6"
  }
 },
 "nbformat": 4,
 "nbformat_minor": 2
}
